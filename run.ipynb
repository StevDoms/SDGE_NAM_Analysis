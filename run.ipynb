{
 "cells": [
  {
   "cell_type": "code",
   "execution_count": 1,
   "id": "39642401-4c5c-4ce9-bac4-f96d91b9f89c",
   "metadata": {},
   "outputs": [],
   "source": [
    "import sys\n",
    "import os\n",
    "import json\n",
    "\n",
    "from src.scripts.generateElevationCSV import generate_elevation_csv\n",
    "from src.data import read_df, generate_gdf"
   ]
  },
  {
   "cell_type": "code",
   "execution_count": 2,
   "id": "e4ab1ab3-9af2-4ab1-81cc-0449bf98da25",
   "metadata": {},
   "outputs": [
    {
     "name": "stdout",
     "output_type": "stream",
     "text": [
      "Weather Station CRS:    EPSG:4326\n",
      "VRI Polygon CRS:        EPSG:4326\n",
      "NAM CRS:                EPSG:4326\n",
      "San Diego County:       EPSG:4326\n"
     ]
    }
   ],
   "source": [
    "with open('config/data_params.json') as fh:\n",
    "    data_cfg = json.load(fh)\n",
    "\n",
    "elevation_path = data_cfg['generate_elevation']\n",
    "dfs = read_df(elevation_path)\n",
    "gdf = generate_gdf(dfs[:-1])"
   ]
  },
  {
   "cell_type": "code",
   "execution_count": 3,
   "id": "8ea4d51f-d0aa-4ae0-a997-e2d0071c2bb4",
   "metadata": {},
   "outputs": [
    {
     "data": {
      "text/html": [
       "<div>\n",
       "<style scoped>\n",
       "    .dataframe tbody tr th:only-of-type {\n",
       "        vertical-align: middle;\n",
       "    }\n",
       "\n",
       "    .dataframe tbody tr th {\n",
       "        vertical-align: top;\n",
       "    }\n",
       "\n",
       "    .dataframe thead th {\n",
       "        text-align: right;\n",
       "    }\n",
       "</style>\n",
       "<table border=\"1\" class=\"dataframe\">\n",
       "  <thead>\n",
       "    <tr style=\"text-align: right;\">\n",
       "      <th></th>\n",
       "      <th>geometry</th>\n",
       "    </tr>\n",
       "  </thead>\n",
       "  <tbody>\n",
       "    <tr>\n",
       "      <th>0</th>\n",
       "      <td>POINT (-117.10672 32.54224)</td>\n",
       "    </tr>\n",
       "    <tr>\n",
       "      <th>1</th>\n",
       "      <td>POINT (-117.09059 32.54212)</td>\n",
       "    </tr>\n",
       "    <tr>\n",
       "      <th>2</th>\n",
       "      <td>POINT (-117.07446 32.54202)</td>\n",
       "    </tr>\n",
       "    <tr>\n",
       "      <th>3</th>\n",
       "      <td>POINT (-116.89679 32.55416)</td>\n",
       "    </tr>\n",
       "    <tr>\n",
       "      <th>4</th>\n",
       "      <td>POINT (-116.97732 32.56846)</td>\n",
       "    </tr>\n",
       "    <tr>\n",
       "      <th>...</th>\n",
       "      <td>...</td>\n",
       "    </tr>\n",
       "    <tr>\n",
       "      <th>3579</th>\n",
       "      <td>POINT (-117.60268 33.56529)</td>\n",
       "    </tr>\n",
       "    <tr>\n",
       "      <th>3580</th>\n",
       "      <td>POINT (-117.63528 33.57899)</td>\n",
       "    </tr>\n",
       "    <tr>\n",
       "      <th>3581</th>\n",
       "      <td>POINT (-117.61896 33.57894)</td>\n",
       "    </tr>\n",
       "    <tr>\n",
       "      <th>3582</th>\n",
       "      <td>POINT (-117.63524 33.59261)</td>\n",
       "    </tr>\n",
       "    <tr>\n",
       "      <th>3583</th>\n",
       "      <td>POINT (-117.6189 33.59256)</td>\n",
       "    </tr>\n",
       "  </tbody>\n",
       "</table>\n",
       "<p>3584 rows × 1 columns</p>\n",
       "</div>"
      ],
      "text/plain": [
       "                         geometry\n",
       "0     POINT (-117.10672 32.54224)\n",
       "1     POINT (-117.09059 32.54212)\n",
       "2     POINT (-117.07446 32.54202)\n",
       "3     POINT (-116.89679 32.55416)\n",
       "4     POINT (-116.97732 32.56846)\n",
       "...                           ...\n",
       "3579  POINT (-117.60268 33.56529)\n",
       "3580  POINT (-117.63528 33.57899)\n",
       "3581  POINT (-117.61896 33.57894)\n",
       "3582  POINT (-117.63524 33.59261)\n",
       "3583   POINT (-117.6189 33.59256)\n",
       "\n",
       "[3584 rows x 1 columns]"
      ]
     },
     "execution_count": 3,
     "metadata": {},
     "output_type": "execute_result"
    }
   ],
   "source": [
    "import pandas as pd\n",
    "df = generate_elevation_csv(gdf)\n",
    "df"
   ]
  }
 ],
 "metadata": {
  "kernelspec": {
   "display_name": "Python 3 (ipykernel)",
   "language": "python",
   "name": "python3"
  },
  "language_info": {
   "codemirror_mode": {
    "name": "ipython",
    "version": 3
   },
   "file_extension": ".py",
   "mimetype": "text/x-python",
   "name": "python",
   "nbconvert_exporter": "python",
   "pygments_lexer": "ipython3",
   "version": "3.11.9"
  }
 },
 "nbformat": 4,
 "nbformat_minor": 5
}
