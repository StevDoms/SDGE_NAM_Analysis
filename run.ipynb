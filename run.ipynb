{
 "cells": [
  {
   "cell_type": "code",
   "execution_count": 1,
   "id": "39642401-4c5c-4ce9-bac4-f96d91b9f89c",
   "metadata": {},
   "outputs": [],
   "source": [
    "import sys\n",
    "import os\n",
    "import json\n",
    "\n",
    "from src.scripts.generateElevationCSV import generate_elevation_csv\n",
    "from src.data import read_df, generate_gdf"
   ]
  },
  {
   "cell_type": "code",
   "execution_count": 2,
   "id": "e4ab1ab3-9af2-4ab1-81cc-0449bf98da25",
   "metadata": {},
   "outputs": [
    {
     "name": "stdout",
     "output_type": "stream",
     "text": [
      "Weather Station CRS:    EPSG:4326\n",
      "VRI Polygon CRS:        EPSG:4326\n",
      "NAM CRS:                EPSG:4326\n",
      "San Diego County:       EPSG:4326\n"
     ]
    }
   ],
   "source": [
    "with open('config/data_params.json') as fh:\n",
    "    data_cfg = json.load(fh)\n",
    "\n",
    "elevation_path = data_cfg['generate_elevation']\n",
    "dfs = read_df(elevation_path)\n",
    "gdf = generate_gdf(dfs[:-1])"
   ]
  },
  {
   "cell_type": "code",
   "execution_count": null,
   "id": "8ea4d51f-d0aa-4ae0-a997-e2d0071c2bb4",
   "metadata": {},
   "outputs": [
    {
     "name": "stdout",
     "output_type": "stream",
     "text": [
      "Error: API returned status code 504\n",
      "Error: API returned status code 504\n"
     ]
    }
   ],
   "source": [
    "generate_elevation_csv(gdf)"
   ]
  }
 ],
 "metadata": {
  "kernelspec": {
   "display_name": "Python 3 (ipykernel)",
   "language": "python",
   "name": "python3"
  },
  "language_info": {
   "codemirror_mode": {
    "name": "ipython",
    "version": 3
   },
   "file_extension": ".py",
   "mimetype": "text/x-python",
   "name": "python",
   "nbconvert_exporter": "python",
   "pygments_lexer": "ipython3",
   "version": "3.11.9"
  }
 },
 "nbformat": 4,
 "nbformat_minor": 5
}
