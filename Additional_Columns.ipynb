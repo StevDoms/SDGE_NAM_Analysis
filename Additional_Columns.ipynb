{
 "cells": [
  {
   "cell_type": "code",
   "execution_count": null,
   "id": "1afb4412-02e3-4030-9921-f1ae60f5313d",
   "metadata": {},
   "outputs": [],
   "source": [
    "import openpyxl\n",
    "import pandas as pd\n",
    "import numpy as np\n",
    "import seaborn as sns\n",
    "import matplotlib.pyplot as plt\n",
    "import matplotlib.dates as mdates\n",
    "import folium\n",
    "from folium import plugins\n",
    "from folium.plugins import HeatMap, MarkerCluster\n",
    "from IPython.display import IFrame\n",
    "import geopandas as gpd\n",
    "from shapely import wkt\n",
    "from shapely.geometry import Point\n",
    "from math import radians, sin, cos, sqrt, atan2\n",
    "import branca\n",
    "import requests"
   ]
  },
  {
   "cell_type": "code",
   "execution_count": null,
   "id": "381873fb-7407-47d8-ab3e-a053661b385c",
   "metadata": {},
   "outputs": [],
   "source": [
    "def get_elevation(lat, lon):\n",
    "    url = f\"https://api.open-elevation.com/api/v1/lookup?locations={lat},{lon}\"\n",
    "    response = requests.get(url).json()\n",
    "    return response['results'][0]['elevation'] if \"results\" in response else None\n",
    "\n",
    "def get_nearest_coastline(lat, lon):\n",
    "    query = f\"\"\"\n",
    "    [out:json];\n",
    "    (\n",
    "      way[natural=coastline](around:50000,{lat},{lon});\n",
    "    );\n",
    "    out geom;\n",
    "    \"\"\"\n",
    "    url = \"https://overpass-api.de/api/interpreter\"\n",
    "    response = requests.get(url, params={\"data\": query}).json()\n",
    "    \n",
    "    if \"elements\" in response and response[\"elements\"]:\n",
    "        coast = response[\"elements\"][0][\"geometry\"][0]  # First coastline point\n",
    "        coast_lat, coast_lon = coast[\"lat\"], coast[\"lon\"]\n",
    "        return Point(coast_lat, coast_lon)\n",
    "    return None\n",
    "\n",
    "def haversine_distance(point1: Point, point2: Point) -> float:\n",
    "    R = 6371.0\n",
    "    lon1, lat1 = point1.x, point1.y\n",
    "    lon2, lat2 = point2.x, point2.y\n",
    "    lat1, lon1, lat2, lon2 = map(radians, [lat1, lon1, lat2, lon2])\n",
    "    delta_lat = lat2 - lat1\n",
    "    delta_lon = lon2 - lon1\n",
    "    a = sin(delta_lat / 2)**2 + cos(lat1) * cos(lat2) * sin(delta_lon / 2)**2\n",
    "    c = 2 * atan2(sqrt(a), sqrt(1 - a))\n",
    "    return R * c\n",
    "\n",
    "def create_point(row):\n",
    "    return Point(row['longitude'], row['latitude'])"
   ]
  },
  {
   "cell_type": "code",
   "execution_count": null,
   "id": "ff04a9cb-09e4-46af-b207-52ce60cff2af",
   "metadata": {},
   "outputs": [],
   "source": [
    "# Load the Excel files into Pandas DataFrames\n",
    "gis_weather_station = pd.read_csv('./data/gis_weatherstation_shape_2024_10_04.csv')\n",
    "station_summary_snapshot = pd.read_csv('./data/src_wings_meteorology_station_summary_snapshot_2023_08_02.csv')\n",
    "windspeed_snapshot = pd.read_csv('./data/src_wings_meteorology_windspeed_snapshot_2023_08_02.csv')\n",
    "\n",
    "src_vri_snapshot = pd.read_csv('./data/src_vri_snapshot_2024_03_20.csv')\n",
    "nam = pd.read_csv('./data/nam.csv')"
   ]
  },
  {
   "cell_type": "code",
   "execution_count": null,
   "id": "dfb018ec-3168-4eca-88c1-6922d2161a26",
   "metadata": {},
   "outputs": [],
   "source": [
    "gis_weather_station['geometry'] = gis_weather_station['shape'].apply(wkt.loads)\n",
    "gis_weather_station_gpd = gpd.GeoDataFrame(gis_weather_station, geometry='geometry', crs=f\"EPSG:{gis_weather_station['shape_srid'][0]}\")\n",
    "\n",
    "src_vri_snapshot['geometry'] = src_vri_snapshot['shape'].apply(wkt.loads)\n",
    "src_vri_snapshot_gpd = gpd.GeoDataFrame(src_vri_snapshot, geometry='geometry', crs=f\"EPSG:{src_vri_snapshot['shape_srid'][0]}\")\n",
    "\n",
    "gis_weather_station_gpd = gis_weather_station_gpd.to_crs(src_vri_snapshot_gpd.crs)\n",
    "\n",
    "print(f\"Weather Station CRS:    {gis_weather_station_gpd.crs}\")\n",
    "print(f\"VRI Polygon CRS:        {src_vri_snapshot_gpd.crs}\")"
   ]
  },
  {
   "cell_type": "code",
   "execution_count": null,
   "id": "c9160857-b61c-4b8f-aa2c-b4fe57bcf2e6",
   "metadata": {},
   "outputs": [],
   "source": [
    "# Get elevation and nearest coastline for Weather Station\n",
    "gis_weather_station_gpd['elevation_m'] = gis_weather_station_gpd.apply(lambda row: get_elevation(row['geometry'].y, row['geometry'].x), axis=1)\n",
    "gis_weather_station_gpd['nearest_coastline_geometry'] = gis_weather_station_gpd.apply(lambda row: get_nearest_coastline(row['geometry'].y, row['geometry'].x), axis=1)\n",
    "\n",
    "# Save file as CSV\n",
    "gis_weather_station_gpd.to_csv(\"data/gis_weather_station.csv\", index=False)"
   ]
  },
  {
   "cell_type": "code",
   "execution_count": null,
   "id": "fd079f6b-29ca-4ba4-9b48-a2d1f3edc968",
   "metadata": {},
   "outputs": [],
   "source": [
    "# Get ESPG:4326\n",
    "nam_crs = src_vri_snapshot['shape_srid'][0]\n",
    "\n",
    "# Create NAM Geodataframe\n",
    "nam['geometry'] = nam.apply(lambda row: Point(row['longitude'], row['latitude']), axis=1)\n",
    "nam_gpd = gpd.GeoDataFrame(nam, geometry='geometry', crs=nam_crs)\n",
    "\n",
    "# Filter NAM within the VRI polygons\n",
    "nam_vri_gpd = gpd.sjoin(nam_gpd, src_vri_snapshot_gpd, how='inner', predicate='within')"
   ]
  },
  {
   "cell_type": "code",
   "execution_count": null,
   "id": "a8200970-b98a-4d85-a08e-43d293b62b36",
   "metadata": {},
   "outputs": [],
   "source": [
    "# Get the unique geometries within the VRI\n",
    "nam_vri_gpd_geometry = nam_vri_gpd[['geometry']].drop_duplicates().reset_index(drop=True)\n",
    "\n",
    "# Get elevation and nearest coastline for the NAM points\n",
    "nam_vri_gpd_geometry['elevation_m'] = nam_vri_gpd_geometry.apply(lambda row: get_elevation(row['geometry'].y, row['geometry'].x), axis=1)\n",
    "nam_vri_gpd_geometry['nearest_coastline_geometry'] = nam_vri_gpd_geometry.apply(lambda row: get_nearest_coastline(row['geometry'].y, row['geometry'].x), axis=1)\n",
    "\n",
    "# Save file as CSV\n",
    "nam_vri_gpd_geometry.to_csv(\"data/NAM_vri_additional_columns.csv\")"
   ]
  }
 ],
 "metadata": {
  "kernelspec": {
   "display_name": "Python 3 (ipykernel)",
   "language": "python",
   "name": "python3"
  },
  "language_info": {
   "codemirror_mode": {
    "name": "ipython",
    "version": 3
   },
   "file_extension": ".py",
   "mimetype": "text/x-python",
   "name": "python",
   "nbconvert_exporter": "python",
   "pygments_lexer": "ipython3",
   "version": "3.11.9"
  }
 },
 "nbformat": 4,
 "nbformat_minor": 5
}
