{
 "cells": [
  {
   "cell_type": "code",
   "execution_count": 1,
   "id": "1afb4412-02e3-4030-9921-f1ae60f5313d",
   "metadata": {},
   "outputs": [],
   "source": [
    "import openpyxl\n",
    "import pandas as pd\n",
    "import numpy as np\n",
    "import seaborn as sns\n",
    "import matplotlib.pyplot as plt\n",
    "import matplotlib.dates as mdates\n",
    "import folium\n",
    "from folium import plugins\n",
    "from folium.plugins import HeatMap, MarkerCluster\n",
    "from IPython.display import IFrame\n",
    "import geopandas as gpd\n",
    "from shapely import wkt\n",
    "from shapely.geometry import Point\n",
    "from math import radians, sin, cos, sqrt, atan2\n",
    "import branca\n",
    "import requests"
   ]
  },
  {
   "cell_type": "code",
   "execution_count": 2,
   "id": "cc57e5ef-1de8-4aed-b9c9-478b135c458d",
   "metadata": {},
   "outputs": [],
   "source": [
    "from src.data import orange_county_geometry"
   ]
  },
  {
   "cell_type": "code",
   "execution_count": 4,
   "id": "e8c212bf-f7db-40f7-8de1-a74e110b5d2e",
   "metadata": {},
   "outputs": [],
   "source": [
    "gdf = orange_county_geometry()"
   ]
  },
  {
   "cell_type": "code",
   "execution_count": null,
   "id": "4ac0301d-02dc-4f08-a450-000df7768cd2",
   "metadata": {},
   "outputs": [],
   "source": [
    "import os\n",
    "import geopandas as gpd\n",
    "\n",
    "gdf = orange_county_geometry()\n",
    "\n",
    "# san_diego_county_gpd = san_diego_county_gpd[['geometry']]\n",
    "\n",
    "centroid = gdf.geometry.centroid.iloc[0]\n",
    "map_center = [centroid.y, centroid.x]\n",
    "\n",
    "# Create a Folium map\n",
    "m = folium.Map(location=map_center, zoom_start=10)\n",
    "\n",
    "# Add polygons to the map\n",
    "for _, row in gdf.iterrows():\n",
    "    folium.GeoJson(row.geometry).add_to(m)\n",
    "\n",
    "# for _, row in san_diego_county_gpd.iterrows():\n",
    "#     folium.GeoJson(row.geometry).add_to(m)\n",
    "\n",
    "\n",
    "\n",
    "# Save map to an HTML file (optional)\n",
    "m.save(\"congressional_map.html\")\n",
    "\n",
    "# Display map in Jupyter Notebook (optional)\n",
    "m\n",
    "\n",
    "# # Convert geometries to Shapely polygons\n",
    "# polygons = gdf[\"geometry\"].apply(lambda geom: geom if isinstance(geom, Polygon) else None)\n",
    "\n",
    "# # Drop None values in case of non-polygon geometries\n",
    "# polygons = polygons.dropna().tolist()\n",
    "\n",
    "# # Print or use the first polygon\n",
    "# print(polygons[0])"
   ]
  },
  {
   "cell_type": "code",
   "execution_count": null,
   "id": "845afd23-6853-4475-a6e4-f83913cd8bce",
   "metadata": {},
   "outputs": [],
   "source": [
    "from helper_functions import haversine_distance"
   ]
  },
  {
   "cell_type": "code",
   "execution_count": null,
   "id": "381873fb-7407-47d8-ab3e-a053661b385c",
   "metadata": {},
   "outputs": [],
   "source": [
    "def get_elevation(lat, lon):\n",
    "    url = f\"https://api.open-elevation.com/api/v1/lookup?locations={lat},{lon}\"\n",
    "    response = requests.get(url).json()\n",
    "    return response['results'][0]['elevation'] if \"results\" in response else None\n",
    "\n",
    "def create_point(row):\n",
    "    return Point(row['longitude'], row['latitude'])"
   ]
  },
  {
   "cell_type": "code",
   "execution_count": 5,
   "id": "ff04a9cb-09e4-46af-b207-52ce60cff2af",
   "metadata": {},
   "outputs": [],
   "source": [
    "# Load the Excel files into Pandas DataFrames\n",
    "gis_weather_station = pd.read_csv('./data/raw//gis_weatherstation_shape_2024_10_04.csv')\n",
    "windspeed_snapshot = pd.read_csv('./data/raw/src_wings_meteorology_windspeed_snapshot_2023_08_02.csv')\n",
    "\n",
    "src_vri_snapshot = pd.read_csv('./data/raw/src_vri_snapshot_2024_03_20.csv')\n",
    "nam = pd.read_csv('./data/raw/nam.csv')\n",
    "san_diego_county_gpd = gpd.read_file(\"data/raw/San_Diego_County_Boundary.geojson\")"
   ]
  },
  {
   "cell_type": "code",
   "execution_count": 9,
   "id": "4f158e25-b9da-4807-bbcf-829bacc5478d",
   "metadata": {},
   "outputs": [
    {
     "data": {
      "text/plain": [
       "0    MULTIPOLYGON Z (((-116.783579 32.826647 0, -11...\n",
       "1    MULTIPOLYGON Z (((-117.297615 33.325552 0, -11...\n",
       "2    MULTIPOLYGON Z (((-116.753684 32.879331 0, -11...\n",
       "3    MULTIPOLYGON Z (((-116.988931 33.050367 0, -11...\n",
       "4    MULTIPOLYGON Z (((-117.214118 33.377714 0, -11...\n",
       "Name: shape, dtype: object"
      ]
     },
     "execution_count": 9,
     "metadata": {},
     "output_type": "execute_result"
    }
   ],
   "source": [
    "gis_weather_station['shape'].head()"
   ]
  },
  {
   "cell_type": "code",
   "execution_count": 10,
   "id": "8a3f40d7-098a-4266-b2fe-14a3ad8875bb",
   "metadata": {},
   "outputs": [],
   "source": [
    "gis_weather_station['geometry'] = gis_weather_station['shape'].apply(wkt.loads)\n",
    "gis_weather_station_gpd = gpd.GeoDataFrame(gis_weather_station, geometry='geometry', crs=f\"EPSG:{gis_weather_station['shape_srid'][0]}\")"
   ]
  },
  {
   "cell_type": "code",
   "execution_count": null,
   "id": "1dcd45d0-5803-40bb-8229-87ddc203752f",
   "metadata": {},
   "outputs": [],
   "source": [
    "type(gis_weather_station_gpd['geometry'].iloc[0].x)"
   ]
  },
  {
   "cell_type": "code",
   "execution_count": 11,
   "id": "dfb018ec-3168-4eca-88c1-6922d2161a26",
   "metadata": {},
   "outputs": [
    {
     "name": "stdout",
     "output_type": "stream",
     "text": [
      "Weather Station CRS:    EPSG:4431\n",
      "VRI Polygon CRS:        EPSG:4326\n",
      "NAM CRS:                EPSG:4326\n",
      "San Diego County:       EPSG:4326\n"
     ]
    }
   ],
   "source": [
    "gis_weather_station['geometry'] = gis_weather_station['shape'].apply(wkt.loads)\n",
    "gis_weather_station_gpd = gpd.GeoDataFrame(gis_weather_station, geometry='geometry', crs=f\"EPSG:{gis_weather_station['shape_srid'][0]}\")\n",
    "\n",
    "src_vri_snapshot['geometry'] = src_vri_snapshot['shape'].apply(wkt.loads)\n",
    "src_vri_snapshot_gpd = gpd.GeoDataFrame(src_vri_snapshot, geometry='geometry', crs=f\"EPSG:{src_vri_snapshot['shape_srid'][0]}\")\n",
    "\n",
    "# Get ESPG:4326\n",
    "nam_crs = src_vri_snapshot['shape_srid'][0]\n",
    "\n",
    "# Create NAM Geodataframe\n",
    "nam['geometry'] = nam.apply(lambda row: Point(row['longitude'], row['latitude']), axis=1)\n",
    "nam_gpd = gpd.GeoDataFrame(nam, geometry='geometry', crs=nam_crs)\n",
    "\n",
    "print(f\"Weather Station CRS:    {gis_weather_station_gpd.crs}\")\n",
    "print(f\"VRI Polygon CRS:        {src_vri_snapshot_gpd.crs}\")\n",
    "print(f\"NAM CRS:                {nam_gpd.crs}\")\n",
    "print(f\"San Diego County:       {san_diego_county_gpd.crs}\")"
   ]
  },
  {
   "cell_type": "code",
   "execution_count": null,
   "id": "eb58c53d-d7c6-4332-b571-7ac9b469e3ec",
   "metadata": {},
   "outputs": [],
   "source": [
    "gis_weather_station_gpd = gis_weather_station_gpd.to_crs(src_vri_snapshot_gpd.crs)\n",
    "\n",
    "print(f\"Weather Station CRS:    {gis_weather_station_gpd.crs}\")\n",
    "print(f\"VRI Polygon CRS:        {src_vri_snapshot_gpd.crs}\")\n",
    "print(f\"NAM CRS:                {nam_gpd.crs}\")\n",
    "print(f\"San Diego County:       {san_diego_county_gpd.crs}\")"
   ]
  },
  {
   "cell_type": "code",
   "execution_count": null,
   "id": "c9160857-b61c-4b8f-aa2c-b4fe57bcf2e6",
   "metadata": {},
   "outputs": [],
   "source": [
    "# Get elevation and nearest coastline for Weather Station\n",
    "gis_weather_station_gpd['elevation_m'] = gis_weather_station_gpd.apply(lambda row: get_elevation(row['geometry'].y, row['geometry'].x), axis=1)\n",
    "\n",
    "# Save file as CSV\n",
    "gis_weather_station_gpd.to_csv(\"../../data/modified/gis_weather_station_with_elevation.csv\", index=False)"
   ]
  },
  {
   "cell_type": "code",
   "execution_count": null,
   "id": "d2cf2626-092d-4d73-81c5-3c5be52cd86c",
   "metadata": {},
   "outputs": [],
   "source": [
    "san_diego_county_gpd = san_diego_county_gpd[['geometry']]"
   ]
  },
  {
   "cell_type": "code",
   "execution_count": null,
   "id": "fd079f6b-29ca-4ba4-9b48-a2d1f3edc968",
   "metadata": {},
   "outputs": [],
   "source": [
    "# Filter NAM within the VRI polygons\n",
    "nam_vri_gpd = gpd.sjoin(nam_gpd, src_vri_snapshot_gpd, how='inner', predicate='within').drop(columns=['index_right'])\n",
    "nam_san_diego_county_gpd = gpd.sjoin(nam_gpd, san_diego_county_gpd, how='inner', predicate='within').drop(columns=['index_right'])\n",
    "nam_vri_san_diego_county_gpd = gpd.sjoin(nam_san_diego_county_gpd, src_vri_snapshot_gpd, how='inner', predicate='within')"
   ]
  },
  {
   "cell_type": "code",
   "execution_count": null,
   "id": "aa03e7cd-70b6-4a74-a480-20fba607338b",
   "metadata": {},
   "outputs": [],
   "source": [
    "print(f\"Number of Unique Points within VRI Polygon: {nam_vri_gpd[['geometry']].nunique()}\")\n",
    "print(f\"Number of Unique Points within San Diego County: {nam_san_diego_county_gpd[['geometry']].nunique()}\")\n",
    "print(f\"Number of Unique Points within VRI Polygon in San Diego County: {nam_vri_san_diego_county_gpd[['geometry']].nunique()}\")\n",
    "print(f\"Number of Unique Points within VRI Polygon and Outside San Diego County: {nam_vri_gpd[['geometry']].nunique() - nam_vri_san_diego_county_gpd[['geometry']].nunique()}\")\n",
    "\n",
    "print(f\"Shape of NAM data within VRI polgyon: {nam_vri_gpd.shape}\")\n",
    "print(f\"Shape of NAM data within San Diego county: {nam_san_diego_county_gpd.shape}\")"
   ]
  },
  {
   "cell_type": "code",
   "execution_count": null,
   "id": "a57eabe4-2aba-4093-b7f2-3165517bcd46",
   "metadata": {},
   "outputs": [],
   "source": [
    "nam_vri_gpd = nam_vri_gpd[['latitude', 'longitude', 'date', 'average_wind_speed', 'geometry']]\n",
    "\n",
    "nam_vri_san_diego_county_gpd_combined = gpd.GeoDataFrame(pd.concat([nam_vri_gpd, nam_san_diego_county_gpd], ignore_index=True))\n",
    "nam_vri_san_diego_county_gpd_combined = nam_vri_san_diego_county_gpd_combined.drop_duplicates()\n",
    "\n",
    "print(f\"Number of Unique Points within all VRI Polygon and San Diego County: {nam_vri_san_diego_county_gpd_combined[['geometry']].nunique()}\")\n",
    "print(f\"Shape of NAM data within all VRI Polygon and San Diego County: {nam_vri_san_diego_county_gpd_combined.shape}\")"
   ]
  },
  {
   "cell_type": "code",
   "execution_count": null,
   "id": "a8200970-b98a-4d85-a08e-43d293b62b36",
   "metadata": {},
   "outputs": [],
   "source": [
    "# Get the unique geometries within the VRI\n",
    "nam_vri_san_diego_county_gpd_combined_geometry = nam_vri_san_diego_county_gpd_combined[['geometry']].drop_duplicates().reset_index(drop=True)\n",
    "nam_vri_san_diego_county_gpd_combined_geometry['nam_elevation_m'] = nam_vri_san_diego_county_gpd_combined_geometry.apply(lambda row: get_elevation(row['geometry'].y, row['geometry'].x), axis=1)\n",
    "nam_vri_san_diego_county_gpd_combined_geometry.head()"
   ]
  },
  {
   "cell_type": "code",
   "execution_count": null,
   "id": "477fed2c-a5e1-4b80-b559-2216ef8381f5",
   "metadata": {},
   "outputs": [],
   "source": [
    "# Add elevation to NAM data\n",
    "nam_vri_san_diego_county_gpd_combined = nam_vri_san_diego_county_gpd_combined.merge(nam_vri_san_diego_county_gpd_combined_geometry, on='geometry', how='inner')\n",
    "nam_vri_san_diego_county_gpd_combined.head()"
   ]
  },
  {
   "cell_type": "code",
   "execution_count": null,
   "id": "d702cca5-6a38-45d0-a1fa-cb59c4d84fdb",
   "metadata": {},
   "outputs": [],
   "source": [
    "# # Save file as CSV\n",
    "nam_vri_san_diego_county_gpd_combined.to_csv(\"data/nam_with_elevation.csv\")"
   ]
  },
  {
   "cell_type": "code",
   "execution_count": null,
   "id": "ec666ec9-309e-413b-891d-35c7874e4abf",
   "metadata": {},
   "outputs": [],
   "source": [
    "import folium\n",
    "from shapely.geometry import Polygon\n",
    "import geopandas as gpd\n",
    "\n",
    "# Define the refined Southern Orange County polygon\n",
    "refined_southern_oc_coords = [\n",
    "    (-117.7, 33.5),  # Laguna Hills area\n",
    "    (-117.65, 33.55),  # Mission Viejo area\n",
    "    (-117.6, 33.5),  # Laguna Niguel area\n",
    "    (-117.55, 33.45),  # Capistrano area\n",
    "    (-117.55, 33.4),  # Dana Point coast\n",
    "    (-117.6, 33.35),  # San Onofre coast\n",
    "    (-117.65, 33.3),  # Las Pulgas (Camp Pendleton border)\n",
    "    (-117.7, 33.35),  # Inland near Camp Pendleton\n",
    "    (-117.7, 33.5)   # Closing the polygon\n",
    "]\n",
    "\n",
    "# Create the polygon\n",
    "southern_oc_polygon = Polygon(refined_southern_oc_coords)\n",
    "\n",
    "# Create a Folium map centered around Southern Orange County\n",
    "m = folium.Map(location=[33.45, -117.6], zoom_start=10)\n",
    "\n",
    "# Convert polygon to a GeoDataFrame for plotting\n",
    "gdf = gpd.GeoDataFrame([1], geometry=[southern_oc_polygon], crs=\"EPSG:4326\")\n",
    "\n",
    "# Add the polygon to the map\n",
    "folium.GeoJson(gdf, name=\"Southern Orange County Service Area\").add_to(m)\n",
    "\n",
    "# Display map\n",
    "m\n"
   ]
  }
 ],
 "metadata": {
  "kernelspec": {
   "display_name": "Python 3 (ipykernel)",
   "language": "python",
   "name": "python3"
  },
  "language_info": {
   "codemirror_mode": {
    "name": "ipython",
    "version": 3
   },
   "file_extension": ".py",
   "mimetype": "text/x-python",
   "name": "python",
   "nbconvert_exporter": "python",
   "pygments_lexer": "ipython3",
   "version": "3.11.9"
  }
 },
 "nbformat": 4,
 "nbformat_minor": 5
}
