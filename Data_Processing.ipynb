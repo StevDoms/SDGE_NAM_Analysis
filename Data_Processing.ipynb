{
 "cells": [
  {
   "cell_type": "code",
   "execution_count": 1,
   "id": "1afb4412-02e3-4030-9921-f1ae60f5313d",
   "metadata": {},
   "outputs": [],
   "source": [
    "import openpyxl\n",
    "import pandas as pd\n",
    "import numpy as np\n",
    "import seaborn as sns\n",
    "import matplotlib.pyplot as plt\n",
    "import matplotlib.dates as mdates\n",
    "import folium\n",
    "from folium import plugins\n",
    "from folium.plugins import HeatMap, MarkerCluster\n",
    "from IPython.display import IFrame\n",
    "import geopandas as gpd\n",
    "from shapely import wkt\n",
    "from shapely.geometry import Point\n",
    "from math import radians, sin, cos, sqrt, atan2\n",
    "import branca\n",
    "import requests"
   ]
  },
  {
   "cell_type": "code",
   "execution_count": 2,
   "id": "381873fb-7407-47d8-ab3e-a053661b385c",
   "metadata": {},
   "outputs": [],
   "source": [
    "def get_elevation(lat, lon):\n",
    "    url = f\"https://api.open-elevation.com/api/v1/lookup?locations={lat},{lon}\"\n",
    "    response = requests.get(url).json()\n",
    "    return response['results'][0]['elevation'] if \"results\" in response else None\n",
    "\n",
    "def haversine_distance(point1: Point, point2: Point) -> float:\n",
    "    R = 6371.0\n",
    "    lon1, lat1 = point1.x, point1.y\n",
    "    lon2, lat2 = point2.x, point2.y\n",
    "    lat1, lon1, lat2, lon2 = map(radians, [lat1, lon1, lat2, lon2])\n",
    "    delta_lat = lat2 - lat1\n",
    "    delta_lon = lon2 - lon1\n",
    "    a = sin(delta_lat / 2)**2 + cos(lat1) * cos(lat2) * sin(delta_lon / 2)**2\n",
    "    c = 2 * atan2(sqrt(a), sqrt(1 - a))\n",
    "    return R * c\n",
    "\n",
    "def create_point(row):\n",
    "    return Point(row['longitude'], row['latitude'])"
   ]
  },
  {
   "cell_type": "code",
   "execution_count": 3,
   "id": "ff04a9cb-09e4-46af-b207-52ce60cff2af",
   "metadata": {},
   "outputs": [],
   "source": [
    "# Load the Excel files into Pandas DataFrames\n",
    "gis_weather_station = pd.read_csv('./data/gis_weatherstation_shape_2024_10_04.csv')\n",
    "station_summary_snapshot = pd.read_csv('./data/src_wings_meteorology_station_summary_snapshot_2023_08_02.csv')\n",
    "windspeed_snapshot = pd.read_csv('./data/src_wings_meteorology_windspeed_snapshot_2023_08_02.csv')\n",
    "\n",
    "src_vri_snapshot = pd.read_csv('./data/src_vri_snapshot_2024_03_20.csv')\n",
    "nam = pd.read_csv('./data/nam.csv')\n",
    "san_diego_county_gpd = gpd.read_file(\"data/San_Diego_County_Boundary.geojson\")"
   ]
  },
  {
   "cell_type": "code",
   "execution_count": 4,
   "id": "dfb018ec-3168-4eca-88c1-6922d2161a26",
   "metadata": {},
   "outputs": [
    {
     "name": "stdout",
     "output_type": "stream",
     "text": [
      "Weather Station CRS:    EPSG:4431\n",
      "VRI Polygon CRS:        EPSG:4326\n",
      "NAM CRS:                EPSG:4326\n",
      "San Diego County:       EPSG:4326\n"
     ]
    }
   ],
   "source": [
    "gis_weather_station['geometry'] = gis_weather_station['shape'].apply(wkt.loads)\n",
    "gis_weather_station_gpd = gpd.GeoDataFrame(gis_weather_station, geometry='geometry', crs=f\"EPSG:{gis_weather_station['shape_srid'][0]}\")\n",
    "\n",
    "src_vri_snapshot['geometry'] = src_vri_snapshot['shape'].apply(wkt.loads)\n",
    "src_vri_snapshot_gpd = gpd.GeoDataFrame(src_vri_snapshot, geometry='geometry', crs=f\"EPSG:{src_vri_snapshot['shape_srid'][0]}\")\n",
    "\n",
    "# Get ESPG:4326\n",
    "nam_crs = src_vri_snapshot['shape_srid'][0]\n",
    "\n",
    "# Create NAM Geodataframe\n",
    "nam['geometry'] = nam.apply(lambda row: Point(row['longitude'], row['latitude']), axis=1)\n",
    "nam_gpd = gpd.GeoDataFrame(nam, geometry='geometry', crs=nam_crs)\n",
    "\n",
    "print(f\"Weather Station CRS:    {gis_weather_station_gpd.crs}\")\n",
    "print(f\"VRI Polygon CRS:        {src_vri_snapshot_gpd.crs}\")\n",
    "print(f\"NAM CRS:                {nam_gpd.crs}\")\n",
    "print(f\"San Diego County:       {san_diego_county_gpd.crs}\")"
   ]
  },
  {
   "cell_type": "code",
   "execution_count": 5,
   "id": "eb58c53d-d7c6-4332-b571-7ac9b469e3ec",
   "metadata": {},
   "outputs": [
    {
     "name": "stdout",
     "output_type": "stream",
     "text": [
      "Weather Station CRS:    EPSG:4326\n",
      "VRI Polygon CRS:        EPSG:4326\n",
      "NAM CRS:                EPSG:4326\n",
      "San Diego County:       EPSG:4326\n"
     ]
    }
   ],
   "source": [
    "gis_weather_station_gpd = gis_weather_station_gpd.to_crs(src_vri_snapshot_gpd.crs)\n",
    "\n",
    "print(f\"Weather Station CRS:    {gis_weather_station_gpd.crs}\")\n",
    "print(f\"VRI Polygon CRS:        {src_vri_snapshot_gpd.crs}\")\n",
    "print(f\"NAM CRS:                {nam_gpd.crs}\")\n",
    "print(f\"San Diego County:       {san_diego_county_gpd.crs}\")"
   ]
  },
  {
   "cell_type": "code",
   "execution_count": 6,
   "id": "c9160857-b61c-4b8f-aa2c-b4fe57bcf2e6",
   "metadata": {},
   "outputs": [],
   "source": [
    "# Get elevation and nearest coastline for Weather Station\n",
    "gis_weather_station_gpd['elevation_m'] = gis_weather_station_gpd.apply(lambda row: get_elevation(row['geometry'].y, row['geometry'].x), axis=1)\n",
    "\n",
    "# Save file as CSV\n",
    "gis_weather_station_gpd.to_csv(\"data/gis_weather_station_with_elevation.csv\", index=False)"
   ]
  },
  {
   "cell_type": "code",
   "execution_count": 7,
   "id": "d2cf2626-092d-4d73-81c5-3c5be52cd86c",
   "metadata": {},
   "outputs": [],
   "source": [
    "san_diego_county_gpd = san_diego_county_gpd[['geometry']]"
   ]
  },
  {
   "cell_type": "code",
   "execution_count": 8,
   "id": "fd079f6b-29ca-4ba4-9b48-a2d1f3edc968",
   "metadata": {},
   "outputs": [],
   "source": [
    "# Filter NAM within the VRI polygons\n",
    "nam_vri_gpd = gpd.sjoin(nam_gpd, src_vri_snapshot_gpd, how='inner', predicate='within').drop(columns=['index_right'])\n",
    "nam_san_diego_county_gpd = gpd.sjoin(nam_gpd, san_diego_county_gpd, how='inner', predicate='within').drop(columns=['index_right'])\n",
    "nam_vri_san_diego_county_gpd = gpd.sjoin(nam_san_diego_county_gpd, src_vri_snapshot_gpd, how='inner', predicate='within')"
   ]
  },
  {
   "cell_type": "code",
   "execution_count": 9,
   "id": "aa03e7cd-70b6-4a74-a480-20fba607338b",
   "metadata": {},
   "outputs": [
    {
     "name": "stdout",
     "output_type": "stream",
     "text": [
      "Number of Unique Points within VRI Polygon: geometry    994\n",
      "dtype: int64\n",
      "Number of Unique Points within San Diego County: geometry    3457\n",
      "dtype: int64\n",
      "Number of Unique Points within VRI Polygon in San Diego County: geometry    938\n",
      "dtype: int64\n",
      "Number of Unique Points within VRI Polygon and Outside San Diego County: geometry    56\n",
      "dtype: int64\n",
      "Shape of NAM data within VRI polgyon: (183622, 32)\n",
      "Shape of NAM data within San Diego county: (576975, 5)\n"
     ]
    }
   ],
   "source": [
    "print(f\"Number of Unique Points within VRI Polygon: {nam_vri_gpd[['geometry']].nunique()}\")\n",
    "print(f\"Number of Unique Points within San Diego County: {nam_san_diego_county_gpd[['geometry']].nunique()}\")\n",
    "print(f\"Number of Unique Points within VRI Polygon in San Diego County: {nam_vri_san_diego_county_gpd[['geometry']].nunique()}\")\n",
    "print(f\"Number of Unique Points within VRI Polygon and Outside San Diego County: {nam_vri_gpd[['geometry']].nunique() - nam_vri_san_diego_county_gpd[['geometry']].nunique()}\")\n",
    "\n",
    "print(f\"Shape of NAM data within VRI polgyon: {nam_vri_gpd.shape}\")\n",
    "print(f\"Shape of NAM data within San Diego county: {nam_san_diego_county_gpd.shape}\")"
   ]
  },
  {
   "cell_type": "code",
   "execution_count": 10,
   "id": "a57eabe4-2aba-4093-b7f2-3165517bcd46",
   "metadata": {},
   "outputs": [
    {
     "name": "stdout",
     "output_type": "stream",
     "text": [
      "Number of Unique Points within all VRI Polygon and San Diego County: geometry    3513\n",
      "dtype: int64\n",
      "Shape of NAM data within all VRI Polygon and San Diego County: (586998, 5)\n"
     ]
    }
   ],
   "source": [
    "nam_vri_gpd = nam_vri_gpd[['latitude', 'longitude', 'date', 'average_wind_speed', 'geometry']]\n",
    "\n",
    "nam_vri_san_diego_county_gpd_combined = gpd.GeoDataFrame(pd.concat([nam_vri_gpd, nam_san_diego_county_gpd], ignore_index=True))\n",
    "nam_vri_san_diego_county_gpd_combined = nam_vri_san_diego_county_gpd_combined.drop_duplicates()\n",
    "\n",
    "print(f\"Number of Unique Points within all VRI Polygon and San Diego County: {nam_vri_san_diego_county_gpd_combined[['geometry']].nunique()}\")\n",
    "print(f\"Shape of NAM data within all VRI Polygon and San Diego County: {nam_vri_san_diego_county_gpd_combined.shape}\")"
   ]
  },
  {
   "cell_type": "code",
   "execution_count": 11,
   "id": "a8200970-b98a-4d85-a08e-43d293b62b36",
   "metadata": {},
   "outputs": [
    {
     "data": {
      "text/html": [
       "<div>\n",
       "<style scoped>\n",
       "    .dataframe tbody tr th:only-of-type {\n",
       "        vertical-align: middle;\n",
       "    }\n",
       "\n",
       "    .dataframe tbody tr th {\n",
       "        vertical-align: top;\n",
       "    }\n",
       "\n",
       "    .dataframe thead th {\n",
       "        text-align: right;\n",
       "    }\n",
       "</style>\n",
       "<table border=\"1\" class=\"dataframe\">\n",
       "  <thead>\n",
       "    <tr style=\"text-align: right;\">\n",
       "      <th></th>\n",
       "      <th>geometry</th>\n",
       "      <th>nam_elevation_m</th>\n",
       "    </tr>\n",
       "  </thead>\n",
       "  <tbody>\n",
       "    <tr>\n",
       "      <th>0</th>\n",
       "      <td>POINT (-117.10672 32.54224)</td>\n",
       "      <td>8.0</td>\n",
       "    </tr>\n",
       "    <tr>\n",
       "      <th>1</th>\n",
       "      <td>POINT (-117.09059 32.54212)</td>\n",
       "      <td>94.0</td>\n",
       "    </tr>\n",
       "    <tr>\n",
       "      <th>2</th>\n",
       "      <td>POINT (-117.07446 32.54202)</td>\n",
       "      <td>47.0</td>\n",
       "    </tr>\n",
       "    <tr>\n",
       "      <th>3</th>\n",
       "      <td>POINT (-116.89679 32.55416)</td>\n",
       "      <td>156.0</td>\n",
       "    </tr>\n",
       "    <tr>\n",
       "      <th>4</th>\n",
       "      <td>POINT (-116.97732 32.56846)</td>\n",
       "      <td>152.0</td>\n",
       "    </tr>\n",
       "  </tbody>\n",
       "</table>\n",
       "</div>"
      ],
      "text/plain": [
       "                      geometry  nam_elevation_m\n",
       "0  POINT (-117.10672 32.54224)              8.0\n",
       "1  POINT (-117.09059 32.54212)             94.0\n",
       "2  POINT (-117.07446 32.54202)             47.0\n",
       "3  POINT (-116.89679 32.55416)            156.0\n",
       "4  POINT (-116.97732 32.56846)            152.0"
      ]
     },
     "execution_count": 11,
     "metadata": {},
     "output_type": "execute_result"
    }
   ],
   "source": [
    "# Get the unique geometries within the VRI\n",
    "nam_vri_san_diego_county_gpd_combined_geometry = nam_vri_san_diego_county_gpd_combined[['geometry']].drop_duplicates().reset_index(drop=True)\n",
    "nam_vri_san_diego_county_gpd_combined_geometry['nam_elevation_m'] = nam_vri_san_diego_county_gpd_combined_geometry.apply(lambda row: get_elevation(row['geometry'].y, row['geometry'].x), axis=1)\n",
    "nam_vri_san_diego_county_gpd_combined_geometry.head()"
   ]
  },
  {
   "cell_type": "code",
   "execution_count": 12,
   "id": "477fed2c-a5e1-4b80-b559-2216ef8381f5",
   "metadata": {},
   "outputs": [
    {
     "data": {
      "text/html": [
       "<div>\n",
       "<style scoped>\n",
       "    .dataframe tbody tr th:only-of-type {\n",
       "        vertical-align: middle;\n",
       "    }\n",
       "\n",
       "    .dataframe tbody tr th {\n",
       "        vertical-align: top;\n",
       "    }\n",
       "\n",
       "    .dataframe thead th {\n",
       "        text-align: right;\n",
       "    }\n",
       "</style>\n",
       "<table border=\"1\" class=\"dataframe\">\n",
       "  <thead>\n",
       "    <tr style=\"text-align: right;\">\n",
       "      <th></th>\n",
       "      <th>latitude</th>\n",
       "      <th>longitude</th>\n",
       "      <th>date</th>\n",
       "      <th>average_wind_speed</th>\n",
       "      <th>geometry</th>\n",
       "      <th>nam_elevation_m</th>\n",
       "    </tr>\n",
       "  </thead>\n",
       "  <tbody>\n",
       "    <tr>\n",
       "      <th>0</th>\n",
       "      <td>32.542244</td>\n",
       "      <td>-117.106720</td>\n",
       "      <td>2012-09-14</td>\n",
       "      <td>12.527321</td>\n",
       "      <td>POINT (-117.10672 32.54224)</td>\n",
       "      <td>8.0</td>\n",
       "    </tr>\n",
       "    <tr>\n",
       "      <th>1</th>\n",
       "      <td>32.542120</td>\n",
       "      <td>-117.090590</td>\n",
       "      <td>2012-09-14</td>\n",
       "      <td>12.835195</td>\n",
       "      <td>POINT (-117.09059 32.54212)</td>\n",
       "      <td>94.0</td>\n",
       "    </tr>\n",
       "    <tr>\n",
       "      <th>2</th>\n",
       "      <td>32.542015</td>\n",
       "      <td>-117.074460</td>\n",
       "      <td>2012-09-14</td>\n",
       "      <td>12.932552</td>\n",
       "      <td>POINT (-117.07446 32.54202)</td>\n",
       "      <td>47.0</td>\n",
       "    </tr>\n",
       "    <tr>\n",
       "      <th>3</th>\n",
       "      <td>32.554165</td>\n",
       "      <td>-116.896790</td>\n",
       "      <td>2012-09-14</td>\n",
       "      <td>13.933927</td>\n",
       "      <td>POINT (-116.89679 32.55416)</td>\n",
       "      <td>156.0</td>\n",
       "    </tr>\n",
       "    <tr>\n",
       "      <th>4</th>\n",
       "      <td>32.568460</td>\n",
       "      <td>-116.977325</td>\n",
       "      <td>2012-09-14</td>\n",
       "      <td>12.176566</td>\n",
       "      <td>POINT (-116.97732 32.56846)</td>\n",
       "      <td>152.0</td>\n",
       "    </tr>\n",
       "    <tr>\n",
       "      <th>...</th>\n",
       "      <td>...</td>\n",
       "      <td>...</td>\n",
       "      <td>...</td>\n",
       "      <td>...</td>\n",
       "      <td>...</td>\n",
       "      <td>...</td>\n",
       "    </tr>\n",
       "    <tr>\n",
       "      <th>586993</th>\n",
       "      <td>33.496647</td>\n",
       "      <td>-117.439760</td>\n",
       "      <td>2022-12-25</td>\n",
       "      <td>9.638989</td>\n",
       "      <td>POINT (-117.43976 33.49665)</td>\n",
       "      <td>513.0</td>\n",
       "    </tr>\n",
       "    <tr>\n",
       "      <th>586994</th>\n",
       "      <td>33.496570</td>\n",
       "      <td>-117.423450</td>\n",
       "      <td>2022-12-25</td>\n",
       "      <td>10.497464</td>\n",
       "      <td>POINT (-117.42345 33.49657)</td>\n",
       "      <td>599.0</td>\n",
       "    </tr>\n",
       "    <tr>\n",
       "      <th>586995</th>\n",
       "      <td>33.496513</td>\n",
       "      <td>-117.407135</td>\n",
       "      <td>2022-12-25</td>\n",
       "      <td>10.306699</td>\n",
       "      <td>POINT (-117.40714 33.49651)</td>\n",
       "      <td>732.0</td>\n",
       "    </tr>\n",
       "    <tr>\n",
       "      <th>586996</th>\n",
       "      <td>33.496426</td>\n",
       "      <td>-117.390810</td>\n",
       "      <td>2022-12-25</td>\n",
       "      <td>9.881019</td>\n",
       "      <td>POINT (-117.39081 33.49643)</td>\n",
       "      <td>814.0</td>\n",
       "    </tr>\n",
       "    <tr>\n",
       "      <th>586997</th>\n",
       "      <td>33.496357</td>\n",
       "      <td>-117.374480</td>\n",
       "      <td>2022-12-25</td>\n",
       "      <td>9.021962</td>\n",
       "      <td>POINT (-117.37448 33.49636)</td>\n",
       "      <td>793.0</td>\n",
       "    </tr>\n",
       "  </tbody>\n",
       "</table>\n",
       "<p>586998 rows × 6 columns</p>\n",
       "</div>"
      ],
      "text/plain": [
       "         latitude   longitude        date  average_wind_speed  \\\n",
       "0       32.542244 -117.106720  2012-09-14           12.527321   \n",
       "1       32.542120 -117.090590  2012-09-14           12.835195   \n",
       "2       32.542015 -117.074460  2012-09-14           12.932552   \n",
       "3       32.554165 -116.896790  2012-09-14           13.933927   \n",
       "4       32.568460 -116.977325  2012-09-14           12.176566   \n",
       "...           ...         ...         ...                 ...   \n",
       "586993  33.496647 -117.439760  2022-12-25            9.638989   \n",
       "586994  33.496570 -117.423450  2022-12-25           10.497464   \n",
       "586995  33.496513 -117.407135  2022-12-25           10.306699   \n",
       "586996  33.496426 -117.390810  2022-12-25            9.881019   \n",
       "586997  33.496357 -117.374480  2022-12-25            9.021962   \n",
       "\n",
       "                           geometry  nam_elevation_m  \n",
       "0       POINT (-117.10672 32.54224)              8.0  \n",
       "1       POINT (-117.09059 32.54212)             94.0  \n",
       "2       POINT (-117.07446 32.54202)             47.0  \n",
       "3       POINT (-116.89679 32.55416)            156.0  \n",
       "4       POINT (-116.97732 32.56846)            152.0  \n",
       "...                             ...              ...  \n",
       "586993  POINT (-117.43976 33.49665)            513.0  \n",
       "586994  POINT (-117.42345 33.49657)            599.0  \n",
       "586995  POINT (-117.40714 33.49651)            732.0  \n",
       "586996  POINT (-117.39081 33.49643)            814.0  \n",
       "586997  POINT (-117.37448 33.49636)            793.0  \n",
       "\n",
       "[586998 rows x 6 columns]"
      ]
     },
     "execution_count": 12,
     "metadata": {},
     "output_type": "execute_result"
    }
   ],
   "source": [
    "# Add elevation to NAM data\n",
    "nam_vri_san_diego_county_gpd_combined = nam_vri_san_diego_county_gpd_combined.merge(nam_vri_san_diego_county_gpd_combined_geometry, on='geometry', how='inner')\n",
    "nam_vri_san_diego_county_gpd_combined.head()"
   ]
  },
  {
   "cell_type": "code",
   "execution_count": 14,
   "id": "d702cca5-6a38-45d0-a1fa-cb59c4d84fdb",
   "metadata": {},
   "outputs": [],
   "source": [
    "# # Save file as CSV\n",
    "nam_vri_san_diego_county_gpd_combined.to_csv(\"data/nam_with_elevation.csv\")"
   ]
  }
 ],
 "metadata": {
  "kernelspec": {
   "display_name": "Python 3 (ipykernel)",
   "language": "python",
   "name": "python3"
  },
  "language_info": {
   "codemirror_mode": {
    "name": "ipython",
    "version": 3
   },
   "file_extension": ".py",
   "mimetype": "text/x-python",
   "name": "python",
   "nbconvert_exporter": "python",
   "pygments_lexer": "ipython3",
   "version": "3.11.9"
  }
 },
 "nbformat": 4,
 "nbformat_minor": 5
}
