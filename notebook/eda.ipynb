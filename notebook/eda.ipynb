{
 "cells": [
  {
   "cell_type": "code",
   "execution_count": 1,
   "id": "f06b773f-96a5-40d7-8db7-11f18826350a",
   "metadata": {},
   "outputs": [
    {
     "name": "stdout",
     "output_type": "stream",
     "text": [
      "Current Directory: /home/ssahar/private/DSC180B\n"
     ]
    }
   ],
   "source": [
    "import sys\n",
    "import os\n",
    "import json\n",
    "\n",
    "# Change dir to root dir\n",
    "parent_dir = os.path.abspath(os.path.join(os.getcwd(), \"..\"))\n",
    "os.chdir(parent_dir)\n",
    "print(\"Current Directory:\", os.getcwd())\n",
    "\n",
    "from src.data import generate_df, convert_to_gdf, preprocess_df"
   ]
  },
  {
   "cell_type": "code",
   "execution_count": 2,
   "id": "f9ca6200-565e-4e1d-b84b-ea15f22286e0",
   "metadata": {},
   "outputs": [],
   "source": [
    "with open('config/data_params.json') as fh:\n",
    "        data_params = json.load(fh)    \n",
    "\n",
    "raw_data_path = [os.path.join('./data/raw', file_path) for file_path in data_params[\"raw_data\"]]\n",
    "modified_data_path = [os.path.join('./data/modified', file_path) for file_path in data_params[\"modified_data\"]]\n",
    "output_model_path = [os.path.join('./data/modified', file_path) for file_path in data_params[\"model_prediction\"]]"
   ]
  },
  {
   "cell_type": "code",
   "execution_count": 3,
   "id": "699364e6-e387-48b6-87ea-4227117357b9",
   "metadata": {},
   "outputs": [],
   "source": [
    "gis_weather_station, src_vri_snapshot, nam, windspeed_snapshot = generate_df(raw_data_path) \n",
    "gis_weather_station, windspeed_snapshot = preprocess_df(gis_weather_station, windspeed_snapshot)"
   ]
  }
 ],
 "metadata": {
  "kernelspec": {
   "display_name": "Python 3 (ipykernel)",
   "language": "python",
   "name": "python3"
  },
  "language_info": {
   "codemirror_mode": {
    "name": "ipython",
    "version": 3
   },
   "file_extension": ".py",
   "mimetype": "text/x-python",
   "name": "python",
   "nbconvert_exporter": "python",
   "pygments_lexer": "ipython3",
   "version": "3.11.9"
  }
 },
 "nbformat": 4,
 "nbformat_minor": 5
}
