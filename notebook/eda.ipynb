{
 "cells": [
  {
   "cell_type": "code",
   "execution_count": null,
   "id": "f06b773f-96a5-40d7-8db7-11f18826350a",
   "metadata": {},
   "outputs": [],
   "source": [
    "import sys\n",
    "import os\n",
    "import json\n",
    "import pandas as pd\n",
    "\n",
    "# Change dir to root dir\n",
    "parent_dir = os.path.abspath(os.path.join(os.getcwd(), \"..\"))\n",
    "os.chdir(parent_dir)\n",
    "print(\"Current Working Directory:\", os.getcwd())\n",
    "\n",
    "from src.data import generate_df, convert_to_gdf, generate_gdf, preprocess_df\n",
    "from src.plot import plot_data"
   ]
  },
  {
   "cell_type": "code",
   "execution_count": null,
   "id": "f9ca6200-565e-4e1d-b84b-ea15f22286e0",
   "metadata": {},
   "outputs": [],
   "source": [
    "with open('config/data_params.json') as fh:\n",
    "        data_params = json.load(fh)    \n",
    "\n",
    "raw_data_path = [os.path.join('./data/raw', file_path) for file_path in data_params[\"raw_data\"]]\n",
    "modified_data_path = [os.path.join('./data/modified', file_path) for file_path in data_params[\"modified_data\"]]\n",
    "output_model_path = [os.path.join('./data/modified', file_path) for file_path in data_params[\"model_prediction\"]]"
   ]
  },
  {
   "cell_type": "code",
   "execution_count": null,
   "id": "699364e6-e387-48b6-87ea-4227117357b9",
   "metadata": {},
   "outputs": [],
   "source": [
    "# Reading raw data\n",
    "gis_weather_station, src_vri_snapshot, nam, windspeed_snapshot = generate_df(raw_data_path) \n",
    "gis_weather_station, windspeed_snapshot = preprocess_df(gis_weather_station, windspeed_snapshot)\n",
    "\n",
    "# Reading filtered data with elevation from API\n",
    "gis_weather_station_with_elevation, nam_with_elevation = generate_df(modified_data_path)\n",
    "gis_weather_station_with_elevation_gpd, src_vri_snapshot_gpd, nam_with_elevation_gpd = generate_gdf(\n",
    "    gis_weather_station_with_elevation, src_vri_snapshot, nam_with_elevation)\n",
    "\n",
    "# Readiing data from LightGBM model\n",
    "nam_within_vri_prediction, nam_outside_vri_prediction = generate_df(output_model_path)"
   ]
  },
  {
   "cell_type": "markdown",
   "id": "9b264630-4d4c-4099-95ce-e14b6ea60c6c",
   "metadata": {},
   "source": [
    "## Raw Data"
   ]
  },
  {
   "cell_type": "code",
   "execution_count": null,
   "id": "328efc04-db3a-4aec-a5bb-1bed125c4770",
   "metadata": {},
   "outputs": [],
   "source": [
    "gis_weather_station.describe()"
   ]
  },
  {
   "cell_type": "markdown",
   "id": "4284895c-aef7-43a9-a799-5afb5a722281",
   "metadata": {},
   "source": [
    "There are 221 unique weather stations in the gis_weather_station dataset."
   ]
  },
  {
   "cell_type": "code",
   "execution_count": null,
   "id": "e47bc321-0871-45ee-90e1-5460038bfe3a",
   "metadata": {},
   "outputs": [],
   "source": [
    "src_vri_snapshot.describe()"
   ]
  },
  {
   "cell_type": "markdown",
   "id": "164afeaa-8580-46c1-a87e-7ac58c17e03e",
   "metadata": {},
   "source": [
    "There are 308 VRI polygons with an average area size of 1.444339e+07 km2 in the src_vri_snapshot."
   ]
  },
  {
   "cell_type": "code",
   "execution_count": null,
   "id": "9b856716-72c8-41d5-95cb-39ceeda0b932",
   "metadata": {},
   "outputs": [],
   "source": [
    "print(f\"Unique NAM dates: {nam['date'].nunique()}\")\n",
    "nam.describe()"
   ]
  },
  {
   "cell_type": "markdown",
   "id": "d714b63c-0402-4e98-8bb4-9b937806add9",
   "metadata": {},
   "source": [
    "There are 15,696,970 unique rows of latitude, longitude, date, and wind speed that spans across 179 unique dates."
   ]
  },
  {
   "cell_type": "code",
   "execution_count": null,
   "id": "9ba4ac16-67ad-4866-9a78-94a555867245",
   "metadata": {},
   "outputs": [],
   "source": [
    "print(f\"Unique Weather Station dates: {windspeed_snapshot['date'].nunique()}\")\n",
    "windspeed_snapshot.describe()"
   ]
  },
  {
   "cell_type": "markdown",
   "id": "4265bccd-bb38-4142-aa81-02fa424db14a",
   "metadata": {},
   "source": [
    "There are 29,939 wind speeds spanning across 179 unique dates"
   ]
  },
  {
   "cell_type": "markdown",
   "id": "1e3b849a-b04b-4202-9f96-f464e60a110d",
   "metadata": {},
   "source": [
    "### Raw Data - Missing Data"
   ]
  },
  {
   "cell_type": "code",
   "execution_count": null,
   "id": "d1d93f8f-b3cc-4af6-8c71-4c1230d184d0",
   "metadata": {},
   "outputs": [],
   "source": [
    "gis_weather_station.isna().sum()"
   ]
  },
  {
   "cell_type": "code",
   "execution_count": null,
   "id": "16800464-7f9d-4093-973a-e9a41e847170",
   "metadata": {},
   "outputs": [],
   "source": [
    "src_vri_snapshot.isna().sum()"
   ]
  },
  {
   "cell_type": "markdown",
   "id": "3d3f3c2e-8144-4323-80c5-14ed873cc4c2",
   "metadata": {},
   "source": [
    "There are missing values in the gis_weather_station and src_vri_snapshot dataset. However, since the columns with missing values are not used in the analysis, imputation of these columns can be omitted."
   ]
  },
  {
   "cell_type": "code",
   "execution_count": null,
   "id": "3a19b3bb-4b74-4348-8677-a2c1aeced5c5",
   "metadata": {},
   "outputs": [],
   "source": [
    "nam.isna().sum()"
   ]
  },
  {
   "cell_type": "code",
   "execution_count": null,
   "id": "214f8ea4-e668-40da-a009-edcff4b018df",
   "metadata": {},
   "outputs": [],
   "source": [
    "windspeed_snapshot.isna().sum()"
   ]
  },
  {
   "cell_type": "markdown",
   "id": "2c6d956e-0629-4365-b745-9a24f26295b3",
   "metadata": {},
   "source": [
    "There are no missing data in the nam and windspeed_snapshot since the missing values has been omitted from the dataset by calling the preprocess_df function."
   ]
  },
  {
   "cell_type": "markdown",
   "id": "b3124776-965a-4a6e-997a-20774addd59e",
   "metadata": {},
   "source": [
    "### Raw Data - Duplicate Data"
   ]
  },
  {
   "cell_type": "code",
   "execution_count": null,
   "id": "ba555a4c-43bb-4e88-af3d-3f3abb3486c9",
   "metadata": {},
   "outputs": [],
   "source": [
    "print(gis_weather_station.duplicated().sum())\n",
    "print(src_vri_snapshot.duplicated().sum())\n",
    "print(nam.duplicated().sum())\n",
    "print(windspeed_snapshot.duplicated().sum())"
   ]
  },
  {
   "cell_type": "markdown",
   "id": "96635e9e-5281-42a9-93ca-6c2f62b833d2",
   "metadata": {},
   "source": [
    "None of the raw dataset contain duplicate values."
   ]
  },
  {
   "cell_type": "markdown",
   "id": "f885cb43-9fcf-4641-8c1e-44aa2caffb8b",
   "metadata": {},
   "source": [
    "### Raw Data - Data Type"
   ]
  },
  {
   "cell_type": "code",
   "execution_count": null,
   "id": "552c29e9-057c-46c5-97b5-1bbb9cc6edd6",
   "metadata": {},
   "outputs": [],
   "source": [
    "print(f\"NAM date data type: {nam['date'].iloc[0]}\")\n",
    "print(f\"NAM date data type: {type(nam['date'].iloc[0])}\")\n",
    "print()\n",
    "print(f\"Weather Station date data type: {windspeed_snapshot['date'].iloc[0]}\")\n",
    "print(f\"Weather Station date data type: {type(windspeed_snapshot['date'].iloc[0])}\")"
   ]
  },
  {
   "cell_type": "markdown",
   "id": "b91774f1-8dd8-4076-b1a2-d33fc8e4fa78",
   "metadata": {},
   "source": [
    "The date format is different between the NAM data and the Weather Station data. The date format will be standardized during data processing to enable accurate date comparison."
   ]
  },
  {
   "cell_type": "markdown",
   "id": "9f943292-e3ed-4645-9f55-f27b32447631",
   "metadata": {},
   "source": [
    "### Raw Data - Data Distribution"
   ]
  },
  {
   "cell_type": "code",
   "execution_count": null,
   "id": "bce79041-d27f-4119-b29e-2ab5d1b63447",
   "metadata": {},
   "outputs": [],
   "source": [
    "plot_data(windspeed_snapshot, x=\"wind_speed\", plot_type=\"hist\", title=\"Station Wind Speed Distribution\", \n",
    "          xlabel=\"Wind Speed (mph)\", ylabel=\"Frequency\", bins=100)"
   ]
  },
  {
   "cell_type": "markdown",
   "id": "6beda622-3eac-408c-a7e0-4d6e81214c2e",
   "metadata": {},
   "source": [
    "Based on the histogram, the weather station wind speed is right-skewed centered at 24mph."
   ]
  },
  {
   "cell_type": "code",
   "execution_count": null,
   "id": "3cef7342-9d24-486f-9592-abfd9a5b268a",
   "metadata": {},
   "outputs": [],
   "source": [
    "plot_data(nam, x=\"average_wind_speed\", plot_type=\"hist\", bins=100)"
   ]
  },
  {
   "cell_type": "markdown",
   "id": "d52ea050-a1cf-4f74-b150-9921ff8709f3",
   "metadata": {},
   "source": [
    "Based on the histogram, the nam wind speed is right-skewed centered at 14mph."
   ]
  },
  {
   "cell_type": "code",
   "execution_count": null,
   "id": "f87e0ee3-6812-43cd-bf4b-b2312e2a624f",
   "metadata": {},
   "outputs": [],
   "source": [
    "plot_data(windspeed_snapshot, x='date', y='wind_speed', plot_type=\"line\", title=\"Station Wind Speed Across the Years\", \n",
    "          xlabel=\"Year\", ylabel=\"Wind Speed (mph)\")"
   ]
  },
  {
   "cell_type": "code",
   "execution_count": null,
   "id": "95aa56b8-adf5-4c18-8184-46d72dba2c9a",
   "metadata": {},
   "outputs": [],
   "source": [
    "plot_data(nam, x='date', y='average_wind_speed', plot_type=\"line\", title=\"NAM Wind Speed Across the Years\", \n",
    "          xlabel=\"Year\", ylabel=\"Wind Speed (mph)\")"
   ]
  },
  {
   "cell_type": "markdown",
   "id": "659cbc06-5028-4496-af53-2909dd742e3a",
   "metadata": {},
   "source": [
    "This line plot shows that the weather station wind speed tend to change throughout the year. This highlight the importance of capturing the temporal features in the model."
   ]
  },
  {
   "cell_type": "code",
   "execution_count": null,
   "id": "fc055319-1123-4734-b928-a624506cb2e5",
   "metadata": {},
   "outputs": [],
   "source": []
  },
  {
   "cell_type": "code",
   "execution_count": null,
   "id": "f14b52d5-33ea-42af-94a5-246998bb5390",
   "metadata": {},
   "outputs": [],
   "source": []
  }
 ],
 "metadata": {
  "kernelspec": {
   "display_name": "Python 3 (ipykernel)",
   "language": "python",
   "name": "python3"
  },
  "language_info": {
   "codemirror_mode": {
    "name": "ipython",
    "version": 3
   },
   "file_extension": ".py",
   "mimetype": "text/x-python",
   "name": "python",
   "nbconvert_exporter": "python",
   "pygments_lexer": "ipython3",
   "version": "3.11.9"
  }
 },
 "nbformat": 4,
 "nbformat_minor": 5
}
