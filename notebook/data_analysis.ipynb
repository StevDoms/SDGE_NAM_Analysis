{
 "cells": [
  {
   "cell_type": "markdown",
   "id": "ab9578c2-6eef-4cd4-8785-5d9e1fc53a90",
   "metadata": {},
   "source": [
    "# NAM-VRI Data Analysis"
   ]
  },
  {
   "cell_type": "code",
   "execution_count": null,
   "id": "89d104b9-745e-4f17-a747-9465c9286c3c",
   "metadata": {},
   "outputs": [],
   "source": [
    "import sys\n",
    "import os\n",
    "import json\n",
    "import numpy as np\n",
    "import pandas as pd\n",
    "import geopandas as gpd\n",
    "from IPython.display import IFrame\n",
    "\n",
    "# Change dir to root dir\n",
    "parent_dir = os.path.abspath(os.path.join(os.getcwd(), \"..\"))\n",
    "os.chdir(parent_dir)\n",
    "print(\"Current Working Directory:\", os.getcwd())\n",
    "\n",
    "from src.data import generate_df, convert_to_gdf, generate_gdf, preprocess_df\n",
    "from src.plot import plot_data, plot_kde, plot_correlation_matrix, plot_map\n",
    "from src.model import light_gbm, predict_light_gbm_model, cluster_kmeans_nam_data\n",
    "from src.data import generate_df, convert_to_gdf, generate_gdf, preprocess_df, preprocess_gdf, filter_nam_outside_vri, get_nam_outside_vri_nearest_station\n",
    "from src.scripts.generateNamCSV import generate_nam_csv\n",
    "from src.scripts.generateElevationCSV import generate_elevation_csv\n",
    "from src.analysis import custom_groupby, find_outliers_iqr, create_polygon_gdf, create_polygons_from_geometries"
   ]
  },
  {
   "cell_type": "code",
   "execution_count": null,
   "id": "d8e265d0-c1a6-4068-94e4-532f7170b1ad",
   "metadata": {},
   "outputs": [],
   "source": [
    "# Prepare file names to be read\n",
    "with open('config/data_params.json') as fh:\n",
    "        data_params = json.load(fh)    \n",
    "\n",
    "raw_data_path = [os.path.join('./data/raw', file_path) for file_path in data_params[\"raw_data\"]]\n",
    "dev_wings_agg_span_path = [os.path.join('./data/raw', file_path) for file_path in data_params[\"data_analysis\"]]\n",
    "modified_data_path = [os.path.join('./data/modified', file_path) for file_path in data_params[\"modified_data\"]]\n",
    "output_model_path = [os.path.join('./data/modified', file_path) for file_path in data_params[\"model_prediction\"]]"
   ]
  },
  {
   "cell_type": "code",
   "execution_count": null,
   "id": "8cbb366e-96f4-465d-bded-151616f113e7",
   "metadata": {},
   "outputs": [],
   "source": [
    "# Reading raw data\n",
    "gis_weather_station, src_vri_snapshot, nam, windspeed_snapshot = generate_df(raw_data_path) \n",
    "gis_weather_station, windspeed_snapshot = preprocess_df(gis_weather_station, windspeed_snapshot)\n",
    "dev_wings_agg_span = generate_df(dev_wings_agg_span_path)[0]\n",
    "\n",
    "# Reading filtered data with elevation from API\n",
    "gis_weather_station_with_elevation, nam_with_elevation = generate_df(modified_data_path)\n",
    "gis_weather_station_with_elevation_gpd, src_vri_snapshot_gpd, nam_with_elevation_gpd = generate_gdf(\n",
    "    gis_weather_station_with_elevation, src_vri_snapshot, nam_with_elevation)\n",
    "\n",
    "# Readiing data from LightGBM model\n",
    "nam_within_vri_prediction, nam_outside_vri_prediction = generate_df(output_model_path)\n",
    "nam_within_vri_prediction_gpd, nam_outside_vri_prediction_gpd = convert_to_gdf(nam_within_vri_prediction, col = 'nam_geometry'), convert_to_gdf(nam_outside_vri_prediction)\n",
    "\n",
    "# Convert dev_wings_agg_span data to gpd\n",
    "dev_wings_agg_span_gpd = convert_to_gdf(dev_wings_agg_span, col = 'shape', espg = 'EPSG:2230')\n",
    "dev_wings_agg_span_gpd = dev_wings_agg_span_gpd.to_crs(nam_within_vri_prediction_gpd.crs)"
   ]
  },
  {
   "cell_type": "markdown",
   "id": "0f433f5e-c0dc-4d21-892e-54448e7b8767",
   "metadata": {},
   "source": [
    "## NAM Points Within VRI Polygon"
   ]
  },
  {
   "cell_type": "code",
   "execution_count": null,
   "id": "5e0a4260-151d-44ef-9226-b750393c05de",
   "metadata": {},
   "outputs": [],
   "source": [
    "agg_dict_within = {\n",
    "    'abs_wind_speed_error': 'mean',\n",
    "    'nam_distance_from_station_km': 'mean',\n",
    "    'station_elevation_m': 'mean',\n",
    "    'nam_elevation_m': 'mean',\n",
    "}\n",
    "\n",
    "# Group the data based on each NAM points\n",
    "nam_mae_within = custom_groupby(nam_within_vri_prediction_gpd, ['geometry'], agg_dict_within)\n",
    "nam_mae_within['distance_weight_error'] = nam_mae_within['abs_wind_speed_error'] * nam_mae_within['nam_distance_from_station_km']\n",
    "nam_mae_within['abs_elevation_difference_m'] = (nam_mae_within['station_elevation_m'] - nam_mae_within['nam_elevation_m']).abs()\n",
    "nam_mae_within.head()"
   ]
  },
  {
   "cell_type": "markdown",
   "id": "1efa8fee-e084-40a5-8f95-616703783945",
   "metadata": {},
   "source": [
    "### Error Distribution & Correlation"
   ]
  },
  {
   "cell_type": "code",
   "execution_count": null,
   "id": "32ca660c-8d6b-4380-af2a-d99024c89fab",
   "metadata": {},
   "outputs": [],
   "source": [
    "plot_data(nam_mae_within, x='abs_wind_speed_error', title='Wind Speed Absolute Error Distribution',\n",
    "          xlabel='Mean Absolute Error')"
   ]
  },
  {
   "cell_type": "markdown",
   "id": "ccf6b1cd-f6bc-496c-b032-ec3bad9855b4",
   "metadata": {},
   "source": [
    "This histogram visualizes the distribution of the Mean Absolute Error of each NAM points. This indicates that the Mean Absolute Error is right-skewed centered at 10 which suggests that there are some points with significantly higher errors, pulling the tail of the distribution to the right."
   ]
  },
  {
   "cell_type": "code",
   "execution_count": null,
   "id": "df0c36d2-ecbd-473d-951d-09e24622c1b2",
   "metadata": {},
   "outputs": [],
   "source": [
    "plot_data(nam_mae_within, x='nam_distance_from_station_km', y='abs_wind_speed_error', plot_type='scatter', \n",
    "          title='Scatter Plot: MAE vs Distance from Station', xlabel='NAM Points Distance from Station (km)', ylabel='Wind Speed MAE')"
   ]
  },
  {
   "cell_type": "code",
   "execution_count": null,
   "id": "4eb19176-c420-44f4-9e9a-be15661524de",
   "metadata": {},
   "outputs": [],
   "source": [
    "plot_correlation_matrix(nam_mae_within[['abs_wind_speed_error', 'nam_distance_from_station_km', 'station_elevation_m', 'nam_elevation_m', 'abs_elevation_difference_m']], method=\"pearson\", \n",
    "                        title=\"Correlation Matrix\", cmap=\"coolwarm\", annot=True)"
   ]
  },
  {
   "cell_type": "markdown",
   "id": "2841c31b-f149-4487-8849-1831777bbe89",
   "metadata": {},
   "source": [
    "We aim to explore the relationship between various factors—such as the distance of NAM points from their respective weather stations and elevation—with the Mean Absolute Error (MAE) of NAM predictions. Based on the correlation matrix, the correlation coefficient between the distance from the station and MAE is 0.31, indicating a weak positive correlation. Elevation appears to have a stronger impact on MAE, with a correlation of 0.59 for station elevation, 0.43 for NAM elevation, and 0.35 for the absolute elevation difference between NAM points and stations. These findings suggest that elevation differences may play a more significant role in influencing MAE than spatial distance alone."
   ]
  },
  {
   "cell_type": "markdown",
   "id": "52f06bcb-5b81-4106-99ac-f99c70d8b385",
   "metadata": {},
   "source": [
    "### NAM Points Error Analysis"
   ]
  },
  {
   "cell_type": "code",
   "execution_count": null,
   "id": "00a144fb-a77d-4259-a5f9-b25f68e6d21e",
   "metadata": {},
   "outputs": [],
   "source": [
    "# Outlier wind speed error on upgrouped nam data\n",
    "abs_wind_speed_error_outlier = find_outliers_iqr(nam_within_vri_prediction_gpd, 'abs_wind_speed_error')\n",
    "print(f\"Outlier of Ungrouped NAM data         : {abs_wind_speed_error_outlier[1]:.3f}\")\n",
    "\n",
    "# Outlier wind speed error grouped based on each nam points\n",
    "MAE_outlier = find_outliers_iqr(nam_mae_within, 'abs_wind_speed_error')\n",
    "print(f\"NAM MAE Outlier                       : {MAE_outlier[1]:.3f}\")\n",
    "\n",
    "# Average wind speed error of ungrouped data between nam points and weather stations points\n",
    "average_wind_speed_error = nam_within_vri_prediction_gpd['abs_wind_speed_error'].mean()\n",
    "print(f\"Average Ungrouped NAM Wind Speed Error: {average_wind_speed_error:.3f}\")\n",
    "\n",
    "# Average Mean Absolute Error\n",
    "average_MAE = nam_mae_within['abs_wind_speed_error'].mean()\n",
    "print(f\"Average MAE                           : {average_MAE:.3f}\")"
   ]
  },
  {
   "cell_type": "markdown",
   "id": "3787d9d4-da1b-45b1-b8a4-0c546c5f84be",
   "metadata": {},
   "source": [
    "The upper bound wind speed error for ungrouped NAM data is 25.302 while the upper bound of the Mean Absolute Error (MAE) that is grouped based on each NAM points is 18.321. We are going to be using the latter threshold value as it removes the temporal dependencies that may exist in the ungrouped dataset.\n",
    "\n",
    "The average wind speed error of ungrouped NAM data is 9.937 while the average of the MAE of NAM points is 10.036."
   ]
  },
  {
   "cell_type": "code",
   "execution_count": null,
   "id": "40068aec-2bc9-4234-be57-c54d8a1a2dfd",
   "metadata": {},
   "outputs": [],
   "source": [
    "plot_map(gis_weather_station_with_elevation_gpd, src_vri_snapshot_gpd, nam_mae_within, 'abs_wind_speed_error', \"nam_within_vri.html\")\n",
    "IFrame(\"../plots/nam_within_vri.html\", width=700, height=500)"
   ]
  },
  {
   "cell_type": "markdown",
   "id": "75dd108e-8d5c-4bc3-a186-d9f72c91194f",
   "metadata": {},
   "source": [
    "This map visualizes the Mean Absolute Error of NAM points within the VRI polygons. The color gradient ranges from yellow (indicating low error) to red (indicating high error)."
   ]
  },
  {
   "cell_type": "code",
   "execution_count": null,
   "id": "ff666068-7a7b-444d-938f-4f4ffd9ed533",
   "metadata": {},
   "outputs": [],
   "source": [
    "# Outlier MAE\n",
    "nam_mae_within_outlier = nam_mae_within[nam_mae_within['abs_wind_speed_error'] > MAE_outlier[1]]\n",
    "print(f\"Number of NAM Points: {nam_mae_within_outlier.shape[0]}\")\n",
    "print(f\"Outlier NAM Points Mean MAE: {nam_mae_within_outlier['abs_wind_speed_error'].mean():.3f}\")\n",
    "print(f\"Outlier NAM Points Highest MAE: {nam_mae_within_outlier['abs_wind_speed_error'].max():.3f}\")\n",
    "nam_mae_within_outlier.head()"
   ]
  },
  {
   "cell_type": "code",
   "execution_count": null,
   "id": "d8600370-5a30-4ec8-b2c5-d58de17d4b16",
   "metadata": {},
   "outputs": [],
   "source": [
    "plot_map(gis_weather_station_with_elevation_gpd, src_vri_snapshot_gpd, nam_mae_within_outlier, \n",
    "         'abs_wind_speed_error', \"nam_within_vri_outlier.html\")\n",
    "IFrame(\"../plots/nam_within_vri_outlier.html\", width=700, height=500)"
   ]
  },
  {
   "cell_type": "markdown",
   "id": "9ac596c5-a83e-493c-a3d8-077f745fd529",
   "metadata": {},
   "source": [
    "This map highlights NAM points with outlier Mean Absolute Errors (MAE) in wind speed predictions. The outlier threshold for wind speed MAE is 18.321, and 31 NAM points exceed this value. The mean MAE for these outliers is 23.353, which is approximately 13 units higher than the overall mean MAE for all NAM points. The highest MAE is 37.291."
   ]
  },
  {
   "cell_type": "code",
   "execution_count": null,
   "id": "fb5f979f-3dc1-40ef-8885-825faa34e0d0",
   "metadata": {},
   "outputs": [],
   "source": [
    "# Outlier MAE\n",
    "nam_mae_within_top_20 = nam_mae_within.sort_values(by='abs_wind_speed_error', ascending=False).head(20)\n",
    "nam_mae_within_top_20.head()"
   ]
  },
  {
   "cell_type": "code",
   "execution_count": null,
   "id": "b6851df5-0646-4510-8182-b9820c8aad04",
   "metadata": {},
   "outputs": [],
   "source": [
    "plot_map(gis_weather_station_with_elevation_gpd, src_vri_snapshot_gpd, nam_mae_within_top_20, \n",
    "         'abs_wind_speed_error', \"nam_within_vri_top_20.html\")\n",
    "IFrame(\"../plots/nam_within_vri_top_20.html\", width=700, height=500)"
   ]
  },
  {
   "cell_type": "markdown",
   "id": "b8bd69b5-83ca-4676-9267-ef4c3e43262d",
   "metadata": {},
   "source": [
    "This map highlights the NAM points with the 20 highest Mean Absolute Errors (MAE) in wind speed predictions."
   ]
  },
  {
   "cell_type": "code",
   "execution_count": null,
   "id": "e447c77e-5b14-4d24-b718-733a2cb5eade",
   "metadata": {},
   "outputs": [],
   "source": [
    "nam_mae_within_top_20_dwe = nam_mae_within.sort_values(by='distance_weight_error', ascending=False).head(20)\n",
    "nam_mae_within_top_20_dwe.head()"
   ]
  },
  {
   "cell_type": "code",
   "execution_count": null,
   "id": "fb3f21c8-2065-4c3d-a6b1-ef424c7051ab",
   "metadata": {},
   "outputs": [],
   "source": [
    "plot_map(gis_weather_station_with_elevation_gpd, src_vri_snapshot_gpd, nam_mae_within_top_20_dwe, \n",
    "         'distance_weight_error', \"nam_within_vri_top_20_distance_weighted.html\")\n",
    "IFrame(\"../plots/nam_within_vri_top_20_distance_weighted.html\", width=700, height=500)"
   ]
  },
  {
   "cell_type": "markdown",
   "id": "812e76af-23a5-4415-8c4b-72f0db27747e",
   "metadata": {},
   "source": [
    "This map highlights the NAM points with the 20 highest Distance-Weighted Mean Absolute Errors (MAE) in wind speed predictions."
   ]
  },
  {
   "cell_type": "code",
   "execution_count": null,
   "id": "b328d4ef-6b3f-4dd1-b4fb-3e37391efd2b",
   "metadata": {},
   "outputs": [],
   "source": [
    "overlapping_top_20 = nam_mae_within_top_20[nam_mae_within_top_20['geometry'].isin(nam_mae_within_top_20_dwe['geometry'])].shape[0]\n",
    "overlapping_top_20"
   ]
  },
  {
   "cell_type": "markdown",
   "id": "e8e8e937-2b57-4377-a290-3ad810488c8a",
   "metadata": {},
   "source": [
    "We compare the top 20 NAM points with the highest Mean Absolute Error (MAE) to the top 20 NAM points with the highest distance-weighted NAM error. The analysis reveals that 12 points appear in both lists, indicating a notable overlap. This suggests that while raw MAE and distance-weighted error highlight different aspects of prediction accuracy, a significant portion of the highest-error NAM points remain consistent across both metrics."
   ]
  },
  {
   "cell_type": "markdown",
   "id": "6a9ce82a-bb1b-4c75-83da-dbae93b6b2cc",
   "metadata": {},
   "source": [
    "### VRI Polygon MAE Analysis"
   ]
  },
  {
   "cell_type": "code",
   "execution_count": null,
   "id": "9c7c5777-0ddf-4089-8d7a-e9017655376d",
   "metadata": {
    "scrolled": true
   },
   "outputs": [],
   "source": [
    "agg_dict_within_polygon = {\n",
    "    'abs_wind_speed_error': 'mean',\n",
    "    'shape_area': 'mean'\n",
    "}\n",
    "\n",
    "# Group data based on VRI Polygon\n",
    "vri_mae_within = custom_groupby(nam_within_vri_prediction_gpd, ['name'], agg_dict_within_polygon)\n",
    "vri_mae_within.head()"
   ]
  },
  {
   "cell_type": "code",
   "execution_count": null,
   "id": "4ba327c6-292c-461a-b6e1-e6f534c74bce",
   "metadata": {},
   "outputs": [],
   "source": [
    "plot_data(vri_mae_within, x='shape_area', y='abs_wind_speed_error', plot_type='scatter', \n",
    "          title='Scatter Plot: MAE vs Polygon Size', xlabel='Polygon Size', ylabel='Wind Speed MAE')"
   ]
  },
  {
   "cell_type": "code",
   "execution_count": null,
   "id": "20dc1c25-4940-4dc3-ad48-ac340e57d5ea",
   "metadata": {},
   "outputs": [],
   "source": [
    "plot_correlation_matrix(vri_mae_within[['abs_wind_speed_error', 'shape_area']], method=\"pearson\", \n",
    "                        title=\"Correlation Matrix\", cmap=\"coolwarm\", annot=True)"
   ]
  },
  {
   "cell_type": "markdown",
   "id": "233cdbe0-ce68-4687-9371-88e3938da8b6",
   "metadata": {},
   "source": [
    "We also wanted to explore whether the size of the VRI polygon has any impact on the Mean Absolute Error (MAE). Initially, we hypothesized that larger polygons would result in higher MAE values. However, our plot, which shows a correlation matrix of -0.15, reveals a weak negative correlation between polygon size and MAE. This suggests that, contrary to our initial assumption, larger polygons do not necessarily correspond to higher errors. In fact, the weak negative correlation indicates that as the size of the polygon increases, the MAE tends to slightly decrease. This might be skewed by the thin and elongated polygons which have a relatively smaller area but larger error."
   ]
  },
  {
   "cell_type": "code",
   "execution_count": null,
   "id": "221d494c-73ff-49c8-ab6c-e5101cf58ea4",
   "metadata": {},
   "outputs": [],
   "source": [
    "# Get the VRI Polygons with the top 20 error\n",
    "vri_top_20_error = vri_mae_within.sort_values(by='abs_wind_speed_error', ascending=False).head(20)\n",
    "vri_top_20_error.head()"
   ]
  },
  {
   "cell_type": "code",
   "execution_count": null,
   "id": "54a4243a-cadb-4ba6-8890-24c6a698f7b2",
   "metadata": {},
   "outputs": [],
   "source": [
    "plot_correlation_matrix(vri_top_20_error[['abs_wind_speed_error', 'shape_area']], method=\"pearson\", \n",
    "                        title=\"Correlation Matrix\", cmap=\"coolwarm\", annot=True)"
   ]
  },
  {
   "cell_type": "markdown",
   "id": "a5c40576-73b4-44d0-84fe-bd72493aa844",
   "metadata": {},
   "source": [
    "However, when we compute the correlation matrix using the top 20 polygons with the highest error, the correlation between NAM error and distance-weighted NAM error is 0.24. "
   ]
  },
  {
   "cell_type": "code",
   "execution_count": null,
   "id": "28a90518-e1ad-42f0-ba11-37fdb9dbeefc",
   "metadata": {},
   "outputs": [],
   "source": [
    "# Get VRI Polygon Geopandas with the top 20 error\n",
    "src_vri_top_20_error = src_vri_snapshot_gpd[src_vri_snapshot_gpd['name'].isin(vri_top_20_error['name'])]\n",
    "\n",
    "# Get the NAM points within the top 20 error VRi Polygon\n",
    "nam_within_vri_prediction_gpd_top_20_error = nam_within_vri_prediction_gpd[nam_within_vri_prediction_gpd['name'].isin(\n",
    "    vri_top_20_error['name'])]\n",
    "nam_mae_within_top_error = custom_groupby(nam_within_vri_prediction_gpd_top_20_error, ['geometry'], agg_dict_within_polygon)\n",
    "nam_mae_within_top_error.head()"
   ]
  },
  {
   "cell_type": "code",
   "execution_count": null,
   "id": "9eeb0968-c163-4dff-b0f4-c45f185622fc",
   "metadata": {},
   "outputs": [],
   "source": [
    "plot_map(gis_weather_station_with_elevation_gpd, src_vri_top_20_error, nam_mae_within_top_error, \n",
    "         'abs_wind_speed_error', \"nam_within_vri_top_polygon_error.html\")\n",
    "IFrame(\"../plots/nam_within_vri_top_polygon_error.html\", width=700, height=500)"
   ]
  },
  {
   "cell_type": "markdown",
   "id": "be8f8aa9-20c0-407b-b537-c95118c51a5b",
   "metadata": {},
   "source": [
    "This map visualizes the top 20 VRI polygons with the highest Average Mean Absolute Error (MAE). From the visualization, we can observe that both thin, elongated polygons and smaller polygons tend to exhibit higher errors. "
   ]
  },
  {
   "cell_type": "markdown",
   "id": "c6b0da68-c411-4f9b-af47-667ce284f9a0",
   "metadata": {},
   "source": [
    "## NAM Points Outside VRI Polygon"
   ]
  },
  {
   "cell_type": "code",
   "execution_count": null,
   "id": "21900baf-ac9d-4fb1-b50d-eb2a46fd402d",
   "metadata": {},
   "outputs": [],
   "source": [
    "nam_outside_vri_prediction_gpd.columns"
   ]
  },
  {
   "cell_type": "code",
   "execution_count": null,
   "id": "c44155ab-234d-4aaf-8723-e67cf8dfd71c",
   "metadata": {},
   "outputs": [],
   "source": [
    "agg_dict_outside = {\n",
    "    'abs_wind_speed_error_pred': 'mean',\n",
    "    'nam_distance_from_station_km': 'mean',\n",
    "    'nam_elevation_m': 'mean',\n",
    "    'station_elevation_m': 'mean',\n",
    "    'nam_wind_speed': 'mean',\n",
    "}\n",
    "\n",
    "nam_mae_outside = custom_groupby(nam_outside_vri_prediction_gpd, ['geometry'], agg_dict_outside)\n",
    "nam_mae_outside.head()"
   ]
  },
  {
   "cell_type": "markdown",
   "id": "4238d2d8-f3f5-4c1b-96bb-c2cf4422fbb1",
   "metadata": {},
   "source": [
    "### NAM Points Error Analysis"
   ]
  },
  {
   "cell_type": "code",
   "execution_count": null,
   "id": "c67a5a44-b6cf-4801-9f89-dfde775397af",
   "metadata": {},
   "outputs": [],
   "source": [
    "plot_correlation_matrix(nam_mae_outside[['abs_wind_speed_error_pred', 'nam_distance_from_station_km', 'station_elevation_m', 'nam_elevation_m']], method=\"pearson\", \n",
    "                        title=\"Correlation Matrix\", cmap=\"coolwarm\", annot=True)"
   ]
  },
  {
   "cell_type": "markdown",
   "id": "4b469055-a91d-4ff8-9af4-4cc9389ac61e",
   "metadata": {},
   "source": [
    "Based on the correlation matrix, the predicted data error shows a weak correlation of 0.13 with the distance to the nearest station. In contrast, it has a strong correlation of 0.90 with station elevation and 0.55 with NAM elevation. These findings highlight the importance of elevation in NAM prediction errors, potentially outweighing the impact of spatial distance alone."
   ]
  },
  {
   "cell_type": "code",
   "execution_count": null,
   "id": "6f16c3a0-0bed-4639-8a2c-867b870b251f",
   "metadata": {},
   "outputs": [],
   "source": [
    "abs_wind_speed_pred_error_outlier = find_outliers_iqr(nam_outside_vri_prediction_gpd, 'abs_wind_speed_error_pred')\n",
    "print(f\"Wind Speed Error Outlier Threshold: {abs_wind_speed_pred_error_outlier[1]:.3f}\")\n",
    "\n",
    "nam_mae_outside_outlier = find_outliers_iqr(nam_mae_outside, 'abs_wind_speed_error_pred')\n",
    "print(f\"MAE Outside VRI Polygon Outlier: {nam_mae_outside_outlier[1]:.3f}\")"
   ]
  },
  {
   "cell_type": "markdown",
   "id": "26ce8108-dd3f-4aa7-ae29-e3dbd650e89d",
   "metadata": {},
   "source": [
    "The outlier for the raw temporal data for NAM points outside the VRI polygon is 25.372, while the outlier for the grouped NAM data is 20.096. Given that we are focusing on grouped NAM data, we will use the latter value of 20.0964 as the outlier threshold."
   ]
  },
  {
   "cell_type": "code",
   "execution_count": null,
   "id": "1871047e-c062-450c-850a-b709706f6136",
   "metadata": {},
   "outputs": [],
   "source": [
    "plot_map(gis_weather_station_with_elevation_gpd, src_vri_snapshot_gpd, nam_mae_outside, \n",
    "         'abs_wind_speed_error_pred', \"nam_outside_vri_error.html\")\n",
    "IFrame(\"../plots/nam_outside_vri_error.html\", width=700, height=500)"
   ]
  },
  {
   "cell_type": "markdown",
   "id": "8aee541f-8a6c-4c1d-8e90-569546c2214f",
   "metadata": {},
   "source": [
    "This map shows the predicted MAE of NAM points located outside the VRI polygon. We observe that several areas exhibit high predicted MAE, including the region around Sentenac Mountain, Rancho Vallecito Airstrip, and Sawtooth Mountains Wilderness. Another zone with elevated errors is the Otay Mountain Wilderness, along with Cleveland National Forest and the Marine Corps Base Camp Pendleton."
   ]
  },
  {
   "cell_type": "code",
   "execution_count": null,
   "id": "d4ad0584-d7ad-4f4f-b883-8c5dcd906c29",
   "metadata": {},
   "outputs": [],
   "source": [
    "nam_mae_outside_outlier_points = nam_mae_outside[nam_mae_outside['abs_wind_speed_error_pred'] > nam_mae_outside_outlier[1]].copy()\n",
    "\n",
    "plot_map(gis_weather_station_with_elevation_gpd, src_vri_snapshot_gpd, nam_mae_outside_outlier_points, \n",
    "         'abs_wind_speed_error_pred', \"nam_outside_vri_error_outlier.html\")\n",
    "IFrame(\"../plots/nam_outside_vri_error_outlier.html\", width=700, height=500)"
   ]
  },
  {
   "cell_type": "code",
   "execution_count": null,
   "id": "360011d0-0ede-414b-ab00-378a95d68e0a",
   "metadata": {},
   "outputs": [],
   "source": [
    "# Manual Geometry Coordinates\n",
    "otay_mountains_coordinates = [(-116.830960, 32.648796), (-116.879944, 32.608430), (-116.88013, 32.59483), (-116.848190, 32.567333), (-116.815000, 32.635033), \n",
    "                              (-116.79977, 32.56687), (-116.79959, 32.58048)]\n",
    "\n",
    "cleveland_national_forest = [(-116.71349, 32.94698), (-116.71368, 32.93337), (-116.69827, 32.87879), (-116.68208, 32.87861), (-116.66505, 32.93285), (-116.66484, 32.94646)]\n",
    "\n",
    "CA_78 = [(-116.54796, 33.14928), (-116.5484, 33.12206), (-116.53285, 33.08105), (-116.4364, 33.02544), (-116.40396, 33.02503), (-116.41794, 33.14768)]\n",
    "\n",
    "sawtooth_mountains = [(-116.4691, 33.01224), (-116.46933, 32.99863), (-116.45384, 32.95762), (-116.34216, 32.86091), (-116.19922, 32.72284), (-116.1785, 32.94024), \n",
    "                      (-116.33957, 32.99696), (-116.4042, 33.01142),]\n",
    "\n",
    "monkey_hill = [(-116.51079, 33.42104), (-116.47937, 33.3526),  (-116.46213, 33.40684),  (-116.46188, 33.42044)]"
   ]
  },
  {
   "cell_type": "code",
   "execution_count": null,
   "id": "b6b3248c-da1c-4909-ada1-0074f3391ba9",
   "metadata": {},
   "outputs": [],
   "source": [
    "# Define a tuple of coordinates with associated names\n",
    "geometries = (\n",
    "    (otay_mountains_coordinates, \"Otay Mountains\"),\n",
    "    (cleveland_national_forest, \"Cleveland National Forest\"),\n",
    "    (CA_78, \"CA 78\"),\n",
    "    (sawtooth_mountains, \"Sawtooth Mountains\"),\n",
    "    (monkey_hill, \"Monkey Hill\")\n",
    ")\n",
    "\n",
    "outlier_boundary_gdf = create_polygons_from_geometries(geometries)\n",
    "outlier_boundary_gdf"
   ]
  },
  {
   "cell_type": "code",
   "execution_count": null,
   "id": "e4df8ff4-c2a3-46c2-a49a-134acd3417af",
   "metadata": {},
   "outputs": [],
   "source": [
    "spans_within_boundary = gpd.sjoin(outlier_boundary_gdf, dev_wings_agg_span_gpd, how=\"inner\", predicate=\"intersects\")\n",
    "spans_within_boundary = convert_to_gdf(spans_within_boundary, col = 'shape', espg = 'EPSG:2230')\n",
    "spans_within_boundary = spans_within_boundary.to_crs(nam_within_vri_prediction_gpd.crs)\n",
    "spans_within_boundary.head()"
   ]
  },
  {
   "cell_type": "code",
   "execution_count": null,
   "id": "d6710a1a-ec12-4c2d-812e-49dc00dd82e0",
   "metadata": {},
   "outputs": [],
   "source": [
    "plot_map(gis_weather_station_with_elevation_gpd, src_vri_snapshot_gpd, nam_mae_outside_outlier_points, \n",
    "         'abs_wind_speed_error_pred', \"nam_outside_vri_error_outlier.html\", error_boundary=outlier_boundary_gdf, spans=spans_within_boundary)\n",
    "IFrame(\"../plots/nam_outside_vri_error_outlier.html\", width=700, height=500)"
   ]
  },
  {
   "cell_type": "markdown",
   "id": "9fd89864-efa9-4ba5-a502-e6f589e7ffd0",
   "metadata": {},
   "source": [
    "Only the points located within the boundaries of the Sawtooth Mountains and CA-78 contain electrical assets."
   ]
  },
  {
   "cell_type": "code",
   "execution_count": null,
   "id": "28efb630-d40e-4697-8f1d-c476bbb74606",
   "metadata": {},
   "outputs": [],
   "source": [
    "boundary_groups = spans_within_boundary.groupby(['boundary_name']).agg(\n",
    "    span_count=('globalid', 'count'),\n",
    "    sum_of_customers=('cust_total', 'sum')\n",
    ")\n",
    "boundary_groups"
   ]
  },
  {
   "cell_type": "markdown",
   "id": "cf769784-448e-4224-bd9f-1d10a9264b09",
   "metadata": {},
   "source": [
    "We can disregard the span counts and customer counts within the Otay Mountains, as the points are already encompassed within a VRI Polygon.\n",
    "\n",
    "For CA-78, there are 459 span counts and 232 customers, while the Sawtooth Mountains have 401 span counts and 118 customers. These two polygon boundaries highlight additional areas where further wind speed data can be collected."
   ]
  }
 ],
 "metadata": {
  "kernelspec": {
   "display_name": "Python 3 (ipykernel)",
   "language": "python",
   "name": "python3"
  },
  "language_info": {
   "codemirror_mode": {
    "name": "ipython",
    "version": 3
   },
   "file_extension": ".py",
   "mimetype": "text/x-python",
   "name": "python",
   "nbconvert_exporter": "python",
   "pygments_lexer": "ipython3",
   "version": "3.11.9"
  }
 },
 "nbformat": 4,
 "nbformat_minor": 5
}
