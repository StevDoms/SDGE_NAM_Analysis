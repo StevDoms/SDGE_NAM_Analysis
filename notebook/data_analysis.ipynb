{
 "cells": [
  {
   "cell_type": "code",
   "execution_count": null,
   "id": "89d104b9-745e-4f17-a747-9465c9286c3c",
   "metadata": {},
   "outputs": [],
   "source": [
    "import sys\n",
    "import os\n",
    "import json\n",
    "import pandas as pd\n",
    "from IPython.display import IFrame\n",
    "\n",
    "# Change dir to root dir\n",
    "parent_dir = os.path.abspath(os.path.join(os.getcwd(), \"..\"))\n",
    "os.chdir(parent_dir)\n",
    "print(\"Current Working Directory:\", os.getcwd())\n",
    "\n",
    "from src.data import generate_df, convert_to_gdf, generate_gdf, preprocess_df\n",
    "from src.plot import plot_data, plot_kde, plot_correlation_matrix, plot_map\n",
    "from src.model import light_gbm, predict_light_gbm_model\n",
    "from src.data import generate_df, convert_to_gdf, generate_gdf, preprocess_df, preprocess_gdf, filter_nam_outside_vri, get_nam_outside_vri_nearest_station\n",
    "from src.scripts.generateNamCSV import generate_nam_csv\n",
    "from src.scripts.generateElevationCSV import generate_elevation_csv\n"
   ]
  },
  {
   "cell_type": "code",
   "execution_count": null,
   "id": "d8e265d0-c1a6-4068-94e4-532f7170b1ad",
   "metadata": {},
   "outputs": [],
   "source": [
    "with open('config/data_params.json') as fh:\n",
    "        data_params = json.load(fh)    \n",
    "\n",
    "raw_data_path = [os.path.join('./data/raw', file_path) for file_path in data_params[\"raw_data\"]]\n",
    "modified_data_path = [os.path.join('./data/modified', file_path) for file_path in data_params[\"modified_data\"]]\n",
    "output_model_path = [os.path.join('./data/modified', file_path) for file_path in data_params[\"model_prediction\"]]"
   ]
  },
  {
   "cell_type": "code",
   "execution_count": null,
   "id": "8cbb366e-96f4-465d-bded-151616f113e7",
   "metadata": {},
   "outputs": [],
   "source": [
    "# Reading raw data\n",
    "gis_weather_station, src_vri_snapshot, nam, windspeed_snapshot = generate_df(raw_data_path) \n",
    "gis_weather_station, windspeed_snapshot = preprocess_df(gis_weather_station, windspeed_snapshot)\n",
    "\n",
    "# Reading filtered data with elevation from API\n",
    "gis_weather_station_with_elevation, nam_with_elevation = generate_df(modified_data_path)\n",
    "gis_weather_station_with_elevation_gpd, src_vri_snapshot_gpd, nam_with_elevation_gpd = generate_gdf(\n",
    "    gis_weather_station_with_elevation, src_vri_snapshot, nam_with_elevation)\n",
    "\n",
    "# Readiing data from LightGBM model\n",
    "nam_within_vri_prediction, nam_outside_vri_prediction = generate_df(output_model_path)\n",
    "nam_within_vri_prediction_gpd, nam_outside_vri_prediction_gpd = convert_to_gdf(nam_within_vri_prediction, True), convert_to_gdf(nam_outside_vri_prediction)"
   ]
  },
  {
   "cell_type": "code",
   "execution_count": null,
   "id": "20dc1c25-4940-4dc3-ad48-ac340e57d5ea",
   "metadata": {},
   "outputs": [],
   "source": [
    "df = nam_within_vri_prediction_gpd.groupby(['geometry'])[['abs_wind_speed_error']].mean().reset_index()\n",
    "df"
   ]
  },
  {
   "cell_type": "code",
   "execution_count": null,
   "id": "40068aec-2bc9-4234-be57-c54d8a1a2dfd",
   "metadata": {},
   "outputs": [],
   "source": [
    "plot_map(gis_weather_station_with_elevation_gpd, src_vri_snapshot_gpd, df, 'abs_wind_speed_error', \"test_file.html\")"
   ]
  },
  {
   "cell_type": "code",
   "execution_count": null,
   "id": "d8600370-5a30-4ec8-b2c5-d58de17d4b16",
   "metadata": {},
   "outputs": [],
   "source": [
    "IFrame(\"../plots/test_file.html\", width=700, height=500)"
   ]
  }
 ],
 "metadata": {
  "kernelspec": {
   "display_name": "Python 3 (ipykernel)",
   "language": "python",
   "name": "python3"
  },
  "language_info": {
   "codemirror_mode": {
    "name": "ipython",
    "version": 3
   },
   "file_extension": ".py",
   "mimetype": "text/x-python",
   "name": "python",
   "nbconvert_exporter": "python",
   "pygments_lexer": "ipython3",
   "version": "3.11.9"
  }
 },
 "nbformat": 4,
 "nbformat_minor": 5
}
