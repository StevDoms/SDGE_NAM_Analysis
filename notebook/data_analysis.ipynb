{
 "cells": [
  {
   "cell_type": "code",
   "execution_count": null,
   "id": "89d104b9-745e-4f17-a747-9465c9286c3c",
   "metadata": {},
   "outputs": [],
   "source": [
    "import sys\n",
    "import os\n",
    "import json\n",
    "import numpy as np\n",
    "import pandas as pd\n",
    "from IPython.display import IFrame\n",
    "\n",
    "# Change dir to root dir\n",
    "parent_dir = os.path.abspath(os.path.join(os.getcwd(), \"..\"))\n",
    "os.chdir(parent_dir)\n",
    "print(\"Current Working Directory:\", os.getcwd())\n",
    "\n",
    "from src.data import generate_df, convert_to_gdf, generate_gdf, preprocess_df\n",
    "from src.plot import plot_data, plot_kde, plot_correlation_matrix, plot_map\n",
    "from src.model import light_gbm, predict_light_gbm_model, cluster_kmeans_nam_data\n",
    "from src.data import generate_df, convert_to_gdf, generate_gdf, preprocess_df, preprocess_gdf, filter_nam_outside_vri, get_nam_outside_vri_nearest_station\n",
    "from src.scripts.generateNamCSV import generate_nam_csv\n",
    "from src.scripts.generateElevationCSV import generate_elevation_csv\n",
    "from src.analysis import custom_groupby, find_outliers_iqr"
   ]
  },
  {
   "cell_type": "code",
   "execution_count": null,
   "id": "d8e265d0-c1a6-4068-94e4-532f7170b1ad",
   "metadata": {},
   "outputs": [],
   "source": [
    "with open('config/data_params.json') as fh:\n",
    "        data_params = json.load(fh)    \n",
    "\n",
    "raw_data_path = [os.path.join('./data/raw', file_path) for file_path in data_params[\"raw_data\"]]\n",
    "modified_data_path = [os.path.join('./data/modified', file_path) for file_path in data_params[\"modified_data\"]]\n",
    "output_model_path = [os.path.join('./data/modified', file_path) for file_path in data_params[\"model_prediction\"]]"
   ]
  },
  {
   "cell_type": "code",
   "execution_count": null,
   "id": "8cbb366e-96f4-465d-bded-151616f113e7",
   "metadata": {},
   "outputs": [],
   "source": [
    "# Reading raw data\n",
    "gis_weather_station, src_vri_snapshot, nam, windspeed_snapshot = generate_df(raw_data_path) \n",
    "gis_weather_station, windspeed_snapshot = preprocess_df(gis_weather_station, windspeed_snapshot)\n",
    "\n",
    "# Reading filtered data with elevation from API\n",
    "gis_weather_station_with_elevation, nam_with_elevation = generate_df(modified_data_path)\n",
    "gis_weather_station_with_elevation_gpd, src_vri_snapshot_gpd, nam_with_elevation_gpd = generate_gdf(\n",
    "    gis_weather_station_with_elevation, src_vri_snapshot, nam_with_elevation)\n",
    "\n",
    "# Readiing data from LightGBM model\n",
    "nam_within_vri_prediction, nam_outside_vri_prediction = generate_df(output_model_path)\n",
    "nam_within_vri_prediction_gpd, nam_outside_vri_prediction_gpd = convert_to_gdf(nam_within_vri_prediction, True), convert_to_gdf(nam_outside_vri_prediction)"
   ]
  },
  {
   "cell_type": "markdown",
   "id": "0f433f5e-c0dc-4d21-892e-54448e7b8767",
   "metadata": {},
   "source": [
    "## NAM Points Within VRI Polygon"
   ]
  },
  {
   "cell_type": "code",
   "execution_count": null,
   "id": "20dc1c25-4940-4dc3-ad48-ac340e57d5ea",
   "metadata": {},
   "outputs": [],
   "source": [
    "# Wind speed error difference to evaluate the LightGBM model\n",
    "nam_within_vri_prediction_gpd['wind_speed_error_diff'] = (nam_within_vri_prediction_gpd['abs_wind_speed_error'] - \n",
    "                                                     nam_within_vri_prediction_gpd['abs_wind_speed_error_pred']).abs()\n",
    "\n",
    "agg_dict_within = {\n",
    "    'abs_wind_speed_error': 'mean',\n",
    "    'wind_speed_error_diff': 'mean',\n",
    "    'nam_distance_from_station_km': 'mean'\n",
    "}\n",
    "\n",
    "# Group the data based on each NAM points\n",
    "nam_mae_within = custom_groupby(nam_within_vri_prediction_gpd, ['geometry'], agg_dict_within)\n",
    "nam_mae_within['distance_weight_error'] = nam_mae_within['abs_wind_speed_error'] * nam_mae_within['nam_distance_from_station_km']\n",
    "nam_mae_within.head()"
   ]
  },
  {
   "cell_type": "code",
   "execution_count": null,
   "id": "f9bebf33-a960-43c1-ab75-f9208965e332",
   "metadata": {},
   "outputs": [],
   "source": [
    "# Outlier wind speed error on upgrouped nam data\n",
    "abs_wind_speed_error_outlier = find_outliers_iqr(nam_within_vri_prediction_gpd, 'abs_wind_speed_error')\n",
    "print(f\"Wind Speed Error Outlier Threshold: {abs_wind_speed_error_outlier}\")\n",
    "\n",
    "# Outlier wind speed error grouped based on each nam points\n",
    "MAE_outlier = find_outliers_iqr(nam_mae_within, 'abs_wind_speed_error')\n",
    "print(f\"MAE Outlier Threshold: {MAE_outlier}\")\n",
    "\n",
    "# Average wind speed error of ungrouped data between nam points and weather stations points\n",
    "average_wind_speed_error = nam_within_vri_prediction_gpd['abs_wind_speed_error'].mean()\n",
    "print(f\"Average Wind Speed Error: {average_wind_speed_error}\")\n",
    "\n",
    "# Average Mean Absolute Error\n",
    "average_MAE = nam_mae_within['abs_wind_speed_error'].mean()\n",
    "print(f\"Average MAE: {average_MAE}\")\n",
    "\n",
    "# Average error between actual error and predicted error\n",
    "average_wind_speed_error_diff = nam_within_vri_prediction_gpd['wind_speed_error_diff'].mean()\n",
    "print(f\"Average Difference of Wind Speed Error: {average_wind_speed_error_diff}\")"
   ]
  },
  {
   "cell_type": "markdown",
   "id": "3787d9d4-da1b-45b1-b8a4-0c546c5f84be",
   "metadata": {},
   "source": [
    "The upper bound wind speed error outlier threshold for ungrouped NAM data is 25.302 while the MAE upper bound outlier threshold value that is grouped based on each NAM points is 18.320. We are going to be using the latter threshold value as it removes the temporal dependencies that may exist in the ungrouped dataset.\n",
    "\n",
    "For each data points in the ungrouped dataset, the average wind speed error between weather station and NAM is 9.9367.\n",
    "\n",
    "Using the LightGBM model to predict the error, the average error difference between actual error and predicted error is 2.2686."
   ]
  },
  {
   "cell_type": "code",
   "execution_count": null,
   "id": "50ea12a4-4b0c-4882-968a-2e9b2f6dbd53",
   "metadata": {},
   "outputs": [],
   "source": [
    "plot_data(nam_mae_within, x='abs_wind_speed_error', title='Wind Speed Absolute Error Distribution',\n",
    "          xlabel='Mean Absolute Error')"
   ]
  },
  {
   "cell_type": "markdown",
   "id": "ccf6b1cd-f6bc-496c-b032-ec3bad9855b4",
   "metadata": {},
   "source": [
    "This histogram visualizes the distribution of the Mean Absolute Error of each NAM points. This indicates that the Mean Absolute Error is right-skewed centered at 10 which suggests that there are some points with significantly higher errors, pulling the tail of the distribution to the right."
   ]
  },
  {
   "cell_type": "code",
   "execution_count": null,
   "id": "df0c36d2-ecbd-473d-951d-09e24622c1b2",
   "metadata": {},
   "outputs": [],
   "source": [
    "plot_data(nam_mae_within, x='nam_distance_from_station_km', y='abs_wind_speed_error', plot_type='scatter', \n",
    "          title='Scatter Plot: MAE vs Distance from Station', xlabel='NAM Points Distance from Station (km)', ylabel='Wind Speed MAE')"
   ]
  },
  {
   "cell_type": "code",
   "execution_count": null,
   "id": "4eb19176-c420-44f4-9e9a-be15661524de",
   "metadata": {},
   "outputs": [],
   "source": [
    "plot_correlation_matrix(nam_mae_within[['abs_wind_speed_error', 'nam_distance_from_station_km']], method=\"pearson\", \n",
    "                        title=\"Correlation Matrix\", cmap=\"coolwarm\", annot=True)"
   ]
  },
  {
   "cell_type": "markdown",
   "id": "2841c31b-f149-4487-8849-1831777bbe89",
   "metadata": {},
   "source": [
    "Another relationship we would like to uncover is the correlation between the distance of NAM points from its respective weather station and the MAE of the NAM points. Based on our plot, there is a slight correlation between these 2 variables with a coefficient of 0.31. This suggests that as the distance between a NAM point and its respective weather station increases, the MAE of the NAM predictions tends to increase as well, though the relationship is not particularly strong. This could be due to the fact that weather stations provide localized ground-truth measurements, while NAM predictions are based on gridded numerical simulations, meaning that farther NAM points may rely on interpolations over larger areas, leading to higher errors. Additionally, terrain variations and microclimate effects may contribute to this trend, as areas with significant elevation changes or unique atmospheric conditions could cause NAM predictions to diverge more from actual observations. The moderate correlation also suggests that while distance plays a role, other factors such as elevation differences, land cover, and atmospheric variability likely influence NAM accuracy as well."
   ]
  },
  {
   "cell_type": "code",
   "execution_count": null,
   "id": "40068aec-2bc9-4234-be57-c54d8a1a2dfd",
   "metadata": {},
   "outputs": [],
   "source": [
    "plot_map(gis_weather_station_with_elevation_gpd, src_vri_snapshot_gpd, nam_mae_within, 'abs_wind_speed_error', \"nam_within_vri.html\")\n",
    "IFrame(\"../plots/nam_within_vri.html\", width=700, height=500)"
   ]
  },
  {
   "cell_type": "markdown",
   "id": "75dd108e-8d5c-4bc3-a186-d9f72c91194f",
   "metadata": {},
   "source": [
    "This map visualizes the Mean Absolute Error of NAM points within the VRI polygons. The color gradient ranges from yellow (indicating low error) to red (indicating high error)."
   ]
  },
  {
   "cell_type": "code",
   "execution_count": null,
   "id": "d8600370-5a30-4ec8-b2c5-d58de17d4b16",
   "metadata": {},
   "outputs": [],
   "source": [
    "# Filtering NAM Points with Outlier MAE\n",
    "plot_map(gis_weather_station_with_elevation_gpd, src_vri_snapshot_gpd, nam_mae_within[nam_mae_within['abs_wind_speed_error'] > MAE_outlier[1]], \n",
    "         'abs_wind_speed_error', \"nam_within_vri_outlier.html\")\n",
    "IFrame(\"../plots/nam_within_vri_outlier.html\", width=700, height=500)"
   ]
  },
  {
   "cell_type": "markdown",
   "id": "9ac596c5-a83e-493c-a3d8-077f745fd529",
   "metadata": {},
   "source": [
    "This map visualizes the NAM points with outlier Mean Absolute Errors (MAE). We observe that NAM points located within thin and elongated VRI polygons tend to exhibit higher errors, particularly at the upper end of the outlier spectrum. This is likely because these VRI polygons contain only a single weather station, and as the distance between the NAM point and the station increases, the accuracy of the NAM predictions decreases. The greater the distance, the less representative the weather station’s measurements become, leading to higher discrepancies between observed and predicted values.\n",
    "\n",
    "This pattern suggests that spatial coverage limitations in elongated VRI polygons may be a key factor contributing to NAM prediction errors. Since these polygons are stretched over larger distances with only one station, they may fail to capture localized weather variations effectively. As a result, NAM points located farther from the station experience greater prediction uncertainty. Addressing this issue could involve optimizing the placement of weather stations within such polygons or assigning these points to a different weather station with a closer proximity.\n",
    "\n",
    "There are points within more compact VRI polygons such as the ones within the Dye Mountain VRI with an error of about 20. In comparison, points within an elongated polygon such as the TL50003 Polygon have an error ranging from 25-35."
   ]
  },
  {
   "cell_type": "code",
   "execution_count": null,
   "id": "b6851df5-0646-4510-8182-b9820c8aad04",
   "metadata": {},
   "outputs": [],
   "source": [
    "plot_map(gis_weather_station_with_elevation_gpd, src_vri_snapshot_gpd, nam_mae_within.sort_values(by='abs_wind_speed_error', ascending=False).head(20), \n",
    "         'abs_wind_speed_error', \"nam_within_vri_top_20.html\")\n",
    "IFrame(\"../plots/nam_within_vri_top_20.html\", width=700, height=500)"
   ]
  },
  {
   "cell_type": "markdown",
   "id": "b8bd69b5-83ca-4676-9267-ef4c3e43262d",
   "metadata": {},
   "source": [
    "The observation above holds true when filtering for the top 20 points with the highest MAE."
   ]
  },
  {
   "cell_type": "code",
   "execution_count": null,
   "id": "fb3f21c8-2065-4c3d-a6b1-ef424c7051ab",
   "metadata": {},
   "outputs": [],
   "source": [
    "plot_map(gis_weather_station_with_elevation_gpd, src_vri_snapshot_gpd, nam_mae_within.sort_values(by='distance_weight_error', ascending=False).head(20), \n",
    "         'distance_weight_error', \"nam_within_vri_distance_weighted.html\")\n",
    "IFrame(\"../plots/nam_within_vri_distance_weighted.html\", width=700, height=500)"
   ]
  },
  {
   "cell_type": "code",
   "execution_count": null,
   "id": "ec9a5e2f-4abd-4e5c-8a9a-2e8f4b21e68e",
   "metadata": {},
   "outputs": [],
   "source": [
    "plot_map(gis_weather_station_with_elevation_gpd, src_vri_snapshot_gpd, \n",
    "         nam_mae_within.sort_values(by='nam_distance_from_station_km', ascending=False).head(20), \n",
    "         'nam_distance_from_station_km', \"nam_within_vri_distance_weighted.html\")\n",
    "IFrame(\"../plots/nam_within_vri_distance_weighted.html\", width=700, height=500)"
   ]
  },
  {
   "cell_type": "markdown",
   "id": "3ade6a4c-1672-412b-a9c2-8dfdf984f59a",
   "metadata": {},
   "source": [
    "These two maps display the top 20 points with the highest distance-weighted MAE error and the greatest distance from their respective weather stations. There is noticeable overlap between the two sets of points, highlighting a clear trend: points located within elongated VRI polygons tend to not only be farther from their designated weather stations but also exhibit higher MAE errors.\n",
    "\n",
    "This trend suggests that as the distance from the station increases, the accuracy of the NAM predictions diminishes, leading to larger errors. The elongated shape of these polygons may exacerbate this issue by spreading the points over a larger area, where localized weather variations are not captured effectively by the station data. This correlation between distance and error underscores the importance of improving station coverage in areas with such elongated polygons."
   ]
  },
  {
   "cell_type": "markdown",
   "id": "6a9ce82a-bb1b-4c75-83da-dbae93b6b2cc",
   "metadata": {},
   "source": [
    "### Polygon MAE Analysis"
   ]
  },
  {
   "cell_type": "code",
   "execution_count": null,
   "id": "744e2777-db59-4c1c-a883-0a60d1cf2d83",
   "metadata": {},
   "outputs": [],
   "source": [
    "agg_dict_within_polygon = {\n",
    "    'abs_wind_speed_error': 'mean',\n",
    "    'shape_area': 'mean'\n",
    "}\n",
    "\n",
    "# Group data based on VRI Polygon\n",
    "vri_mae_within = custom_groupby(nam_within_vri_prediction_gpd, ['name'], agg_dict_within_polygon)\n",
    "\n",
    "# Get the top 20 polygon with the highest error\n",
    "top_error_outside_vri = vri_mae_within.sort_values(by='abs_wind_speed_error', ascending=False).head(20)\n",
    "top_error_outside_vri.head()"
   ]
  },
  {
   "cell_type": "code",
   "execution_count": null,
   "id": "221d494c-73ff-49c8-ab6c-e5101cf58ea4",
   "metadata": {},
   "outputs": [],
   "source": [
    "# Get the VRI Polygons with the top 20 error\n",
    "nam_within_vri_prediction_gpd_top_error = nam_within_vri_prediction_gpd[nam_within_vri_prediction_gpd['name'].isin(\n",
    "    top_error_outside_vri['name'])]\n",
    "src_vri_snapshot_gpd_top_error = src_vri_snapshot_gpd[src_vri_snapshot_gpd['name'].isin(top_error_outside_vri['name'])]\n",
    "\n",
    "# Get the NAM points within the top 20 error VRi Polygon\n",
    "nam_mae_within_top_error = custom_groupby(nam_within_vri_prediction_gpd_top_error, ['geometry'], agg_dict_within)\n",
    "nam_mae_within_top_error.head()"
   ]
  },
  {
   "cell_type": "code",
   "execution_count": null,
   "id": "f8d29094-5746-4310-b655-5c9e7a643b5f",
   "metadata": {},
   "outputs": [],
   "source": [
    "plot_data(vri_mae_within, x='shape_area', y='abs_wind_speed_error', plot_type='scatter', \n",
    "          title='Scatter Plot: MAE vs Polygon Size', xlabel='Polygon Size', ylabel='Wind Speed MAE')"
   ]
  },
  {
   "cell_type": "code",
   "execution_count": null,
   "id": "ec26ef64-23b6-4d68-9e35-fef7048ae34f",
   "metadata": {},
   "outputs": [],
   "source": [
    "plot_correlation_matrix(vri_mae_within[['abs_wind_speed_error', 'shape_area']], method=\"pearson\", \n",
    "                        title=\"Correlation Matrix\", cmap=\"coolwarm\", annot=True)"
   ]
  },
  {
   "cell_type": "markdown",
   "id": "97fd1471-797f-4e6d-b284-38a201cabc35",
   "metadata": {},
   "source": [
    "We also wanted to explore whether the size of the VRI polygon has any impact on the Mean Absolute Error (MAE). Initially, we hypothesized that larger polygons would result in higher MAE values, as they may cover more diverse terrain and atmospheric conditions, potentially leading to less accurate NAM predictions. However, our plot, which shows a correlation matrix of -0.15, reveals a weak negative correlation between polygon size and MAE.\n",
    "\n",
    "This suggests that, contrary to our initial assumption, larger polygons do not necessarily correspond to higher errors. In fact, the weak negative correlation indicates that as the size of the polygon increases, the MAE tends to slightly decrease. This might be skewed by the thin and elongated polygons which have a relatively smaller area but larger error."
   ]
  },
  {
   "cell_type": "code",
   "execution_count": null,
   "id": "9eeb0968-c163-4dff-b0f4-c45f185622fc",
   "metadata": {},
   "outputs": [],
   "source": [
    "plot_map(gis_weather_station_with_elevation_gpd, src_vri_snapshot_gpd_top_error, nam_mae_within_top_error, \n",
    "         'abs_wind_speed_error', \"nam_within_vri_top_polygon_error.html\")\n",
    "IFrame(\"../plots/nam_within_vri_top_polygon_error.html\", width=700, height=500)"
   ]
  },
  {
   "cell_type": "markdown",
   "id": "be8f8aa9-20c0-407b-b537-c95118c51a5b",
   "metadata": {},
   "source": [
    "This map visualizes the top 20 VRI polygons with the highest Mean Absolute Error (MAE). From the visualization, we can observe that both thin, elongated polygons and smaller polygons tend to exhibit higher errors. "
   ]
  },
  {
   "cell_type": "markdown",
   "id": "c6b0da68-c411-4f9b-af47-667ce284f9a0",
   "metadata": {},
   "source": [
    "## NAM Points Outside VRI Polygon"
   ]
  },
  {
   "cell_type": "code",
   "execution_count": null,
   "id": "c44155ab-234d-4aaf-8723-e67cf8dfd71c",
   "metadata": {},
   "outputs": [],
   "source": [
    "agg_dict_outside = {\n",
    "    'abs_wind_speed_error_pred': 'mean',\n",
    "}\n",
    "\n",
    "nam_mae_outside = custom_groupby(nam_outside_vri_prediction_gpd, ['geometry'], agg_dict_outside)\n",
    "nam_mae_outside.head()"
   ]
  },
  {
   "cell_type": "code",
   "execution_count": null,
   "id": "6f16c3a0-0bed-4639-8a2c-867b870b251f",
   "metadata": {},
   "outputs": [],
   "source": [
    "abs_wind_speed_pred_error_outlier = find_outliers_iqr(nam_outside_vri_prediction_gpd, 'abs_wind_speed_error_pred')\n",
    "print(f\"Wind Speed Error Outlier Threshold: {abs_wind_speed_pred_error_outlier}\")\n",
    "\n",
    "nam_mae_outside_outlier = find_outliers_iqr(nam_mae_outside, 'abs_wind_speed_error_pred')\n",
    "print(f\"MAE Outside VRI Polygon Outlier: {nam_mae_outside_outlier}\")"
   ]
  },
  {
   "cell_type": "markdown",
   "id": "26ce8108-dd3f-4aa7-ae29-e3dbd650e89d",
   "metadata": {},
   "source": [
    "The outlier for the raw temporal data for NAM points outside the VRI polygon is 25.372, while the outlier for the grouped NAM data is 20.0964. Given that we are focusing on grouped NAM data, we will use the latter value of 20.0964 as the outlier threshold."
   ]
  },
  {
   "cell_type": "code",
   "execution_count": null,
   "id": "1871047e-c062-450c-850a-b709706f6136",
   "metadata": {},
   "outputs": [],
   "source": [
    "plot_map(gis_weather_station_with_elevation_gpd, src_vri_snapshot_gpd, nam_mae_outside, 'abs_wind_speed_error_pred', \n",
    "         \"nam_outside_vri_error.html\")\n",
    "IFrame(\"../plots/nam_outside_vri_error.html\", width=700, height=500)"
   ]
  },
  {
   "cell_type": "markdown",
   "id": "8aee541f-8a6c-4c1d-8e90-569546c2214f",
   "metadata": {},
   "source": [
    "This map shows the predicted MAE of NAM points located outside the VRI polygon. We observe that several areas exhibit high predicted MAE, including the region around Sentenac Mountain, Rancho Vallecito Airstrip, and Sawtooth Mountains Wilderness. Another zone with elevated errors is the Otay Mountain Wilderness, along with Cleveland National Forest and the Marine Corps Base Camp Pendleton."
   ]
  },
  {
   "cell_type": "code",
   "execution_count": null,
   "id": "74ad09ab-b508-457c-9edb-39e9bdbb17ca",
   "metadata": {},
   "outputs": [],
   "source": [
    "# K-means clustering\n",
    "nam_mae_outside_clustered, cluster_centeroid = cluster_kmeans_nam_data(nam_mae_outside, start_range=15, end_range=30)\n",
    "nam_mae_outside_clustered.head()"
   ]
  },
  {
   "cell_type": "code",
   "execution_count": null,
   "id": "360011d0-0ede-414b-ab00-378a95d68e0a",
   "metadata": {},
   "outputs": [],
   "source": [
    "cluster_centeroid"
   ]
  },
  {
   "cell_type": "code",
   "execution_count": null,
   "id": "b6b3248c-da1c-4909-ada1-0074f3391ba9",
   "metadata": {},
   "outputs": [],
   "source": [
    "plot_map(gis_weather_station_with_elevation_gpd, src_vri_snapshot_gpd, nam_mae_outside_clustered, 'cluster', \"nam_outside_vri_cluster.html\", \n",
    "         show_alpha_shapes=True, cluster_centeroid=cluster_centeroid)\n",
    "IFrame(\"../plots/nam_outside_vri_cluster.html\", width=700, height=500)"
   ]
  },
  {
   "cell_type": "markdown",
   "id": "6260202a-e36f-486e-ad89-16dd4909ac0f",
   "metadata": {},
   "source": [
    "This map visualizes NAM points outside the VRI polygon, grouped into 18 distinct clusters based on their spatial distribution. Due to the high density of points within each cluster, individual points may overlap, making it difficult to analyze patterns effectively in a single view. To address this, we will filter and examine each cluster separately in the following maps."
   ]
  },
  {
   "cell_type": "code",
   "execution_count": null,
   "id": "1cbdbbba-9a2d-4657-bcbb-213adfbf34a9",
   "metadata": {},
   "outputs": [],
   "source": [
    "# Create maps for each cluster\n",
    "for i in range(len(cluster_centeroid)):\n",
    "    plot_map(gis_weather_station_with_elevation_gpd, src_vri_snapshot_gpd, nam_mae_outside_clustered[nam_mae_outside_clustered['cluster'] == i], \n",
    "         'cluster', f\"nam_outside_vri_cluster_{i}.html\", show_alpha_shapes=True, cluster_centeroid=cluster_centeroid)"
   ]
  },
  {
   "cell_type": "code",
   "execution_count": null,
   "id": "28efb630-d40e-4697-8f1d-c476bbb74606",
   "metadata": {},
   "outputs": [],
   "source": [
    "# Sort index based on descending Mean MAE\n",
    "highest_error_index = np.argsort(cluster_centeroid[:, 2])[::-1]\n",
    "highest_error_index"
   ]
  },
  {
   "cell_type": "code",
   "execution_count": null,
   "id": "6a2bbd66-9caf-4801-928e-f9cbee713517",
   "metadata": {},
   "outputs": [],
   "source": [
    "IFrame(\"../plots/nam_outside_vri_cluster_9.html\", width=700, height=500)"
   ]
  },
  {
   "cell_type": "markdown",
   "id": "e32a95ba-d053-4ff2-ae72-7ce288166a04",
   "metadata": {},
   "source": [
    "This map is filtered based on Cluster 9, which encompasses the Otay Mountain Wilderness. The centroid of this cluster is located at (-116.79131185, 32.61086012), and it has a mean MAE of 23.569."
   ]
  },
  {
   "cell_type": "code",
   "execution_count": null,
   "id": "1cb0e0f6-f2c2-4ac2-8770-d1aa34288652",
   "metadata": {},
   "outputs": [],
   "source": [
    "IFrame(\"../plots/nam_outside_vri_cluster_2.html\", width=700, height=500)"
   ]
  },
  {
   "cell_type": "markdown",
   "id": "6144a1f8-807a-4c26-9d58-08194d1c8dc0",
   "metadata": {},
   "source": [
    "This map is filtered based on Cluster 2, which encompasses the Julian, Los Coyotes Reservation, etc. The centroid of this cluster is located at (-116.53959668, 33.10157003), and it has a mean MAE of 22.783."
   ]
  },
  {
   "cell_type": "code",
   "execution_count": null,
   "id": "f9e46291-834d-477d-8683-918bad49b044",
   "metadata": {},
   "outputs": [],
   "source": [
    "IFrame(\"../plots/nam_outside_vri_cluster_10.html\", width=700, height=500)"
   ]
  },
  {
   "cell_type": "markdown",
   "id": "22a0db58-1480-4f50-a1e4-a12e470a33e3",
   "metadata": {},
   "source": [
    "This map is filtered based on Cluster 10, which encompasses the Rancho Vallecito Airstrip and the Sawtooth Mountains Wilderness. The centroid of this cluster is located at (-116.29507176, 32.8977268), and it has a mean MAE of 22.673."
   ]
  },
  {
   "cell_type": "code",
   "execution_count": null,
   "id": "5e17c290-9016-4471-bec5-17a5dd9e9ee3",
   "metadata": {},
   "outputs": [],
   "source": [
    "IFrame(\"../plots/nam_outside_vri_cluster_11.html\", width=700, height=500)"
   ]
  },
  {
   "cell_type": "markdown",
   "id": "1b65e9cc-238c-4c44-8b60-47a3d796182d",
   "metadata": {},
   "source": [
    "This map is filtered based on Cluster 11, which encompasses the Southern Orange County Area. The centroid of this cluster is located at (-117.60482336, 33.5105197), and it has a mean MAE of 7.35."
   ]
  }
 ],
 "metadata": {
  "kernelspec": {
   "display_name": "Python 3 (ipykernel)",
   "language": "python",
   "name": "python3"
  },
  "language_info": {
   "codemirror_mode": {
    "name": "ipython",
    "version": 3
   },
   "file_extension": ".py",
   "mimetype": "text/x-python",
   "name": "python",
   "nbconvert_exporter": "python",
   "pygments_lexer": "ipython3",
   "version": "3.11.9"
  }
 },
 "nbformat": 4,
 "nbformat_minor": 5
}
