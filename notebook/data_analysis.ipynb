{
 "cells": [
  {
   "cell_type": "code",
   "execution_count": 1,
   "id": "89d104b9-745e-4f17-a747-9465c9286c3c",
   "metadata": {},
   "outputs": [
    {
     "name": "stdout",
     "output_type": "stream",
     "text": [
      "Current Working Directory: /home/ssahar/private/DSC180B\n"
     ]
    }
   ],
   "source": [
    "import sys\n",
    "import os\n",
    "import json\n",
    "import pandas as pd\n",
    "from IPython.display import IFrame\n",
    "\n",
    "# Change dir to root dir\n",
    "parent_dir = os.path.abspath(os.path.join(os.getcwd(), \"..\"))\n",
    "os.chdir(parent_dir)\n",
    "print(\"Current Working Directory:\", os.getcwd())\n",
    "\n",
    "from src.data import generate_df, convert_to_gdf, generate_gdf, preprocess_df\n",
    "from src.plot import plot_data, plot_kde, plot_correlation_matrix, plot_map\n",
    "from src.model import light_gbm, predict_light_gbm_model\n",
    "from src.data import generate_df, convert_to_gdf, generate_gdf, preprocess_df, preprocess_gdf, filter_nam_outside_vri, get_nam_outside_vri_nearest_station\n",
    "from src.scripts.generateNamCSV import generate_nam_csv\n",
    "from src.scripts.generateElevationCSV import generate_elevation_csv\n"
   ]
  },
  {
   "cell_type": "code",
   "execution_count": 2,
   "id": "d8e265d0-c1a6-4068-94e4-532f7170b1ad",
   "metadata": {},
   "outputs": [],
   "source": [
    "with open('config/data_params.json') as fh:\n",
    "        data_params = json.load(fh)    \n",
    "\n",
    "raw_data_path = [os.path.join('./data/raw', file_path) for file_path in data_params[\"raw_data\"]]\n",
    "modified_data_path = [os.path.join('./data/modified', file_path) for file_path in data_params[\"modified_data\"]]\n",
    "output_model_path = [os.path.join('./data/modified', file_path) for file_path in data_params[\"model_prediction\"]]"
   ]
  },
  {
   "cell_type": "code",
   "execution_count": 3,
   "id": "8cbb366e-96f4-465d-bded-151616f113e7",
   "metadata": {},
   "outputs": [
    {
     "name": "stdout",
     "output_type": "stream",
     "text": [
      "Weather Station CRS:    EPSG:4326\n",
      "VRI Polygon CRS:        EPSG:4326\n",
      "NAM CRS:                EPSG:4326\n"
     ]
    },
    {
     "name": "stderr",
     "output_type": "stream",
     "text": [
      "/home/ssahar/private/DSC180B/src/data.py:9: DtypeWarning: Columns (46) have mixed types. Specify dtype option on import or set low_memory=False.\n",
      "  return [pd.read_csv(file) for file in input_list]\n"
     ]
    }
   ],
   "source": [
    "# Reading raw data\n",
    "gis_weather_station, src_vri_snapshot, nam, windspeed_snapshot = generate_df(raw_data_path) \n",
    "gis_weather_station, windspeed_snapshot = preprocess_df(gis_weather_station, windspeed_snapshot)\n",
    "\n",
    "# Reading filtered data with elevation from API\n",
    "gis_weather_station_with_elevation, nam_with_elevation = generate_df(modified_data_path)\n",
    "gis_weather_station_with_elevation_gpd, src_vri_snapshot_gpd, nam_with_elevation_gpd = generate_gdf(\n",
    "    gis_weather_station_with_elevation, src_vri_snapshot, nam_with_elevation)\n",
    "\n",
    "# Readiing data from LightGBM model\n",
    "nam_within_vri_prediction, nam_outside_vri_prediction = generate_df(output_model_path)\n",
    "nam_within_vri_prediction_gpd, nam_outside_vri_prediction_gpd = convert_to_gdf(nam_within_vri_prediction, True), convert_to_gdf(nam_outside_vri_prediction)"
   ]
  },
  {
   "cell_type": "code",
   "execution_count": 4,
   "id": "20dc1c25-4940-4dc3-ad48-ac340e57d5ea",
   "metadata": {},
   "outputs": [
    {
     "data": {
      "text/html": [
       "<div>\n",
       "<style scoped>\n",
       "    .dataframe tbody tr th:only-of-type {\n",
       "        vertical-align: middle;\n",
       "    }\n",
       "\n",
       "    .dataframe tbody tr th {\n",
       "        vertical-align: top;\n",
       "    }\n",
       "\n",
       "    .dataframe thead th {\n",
       "        text-align: right;\n",
       "    }\n",
       "</style>\n",
       "<table border=\"1\" class=\"dataframe\">\n",
       "  <thead>\n",
       "    <tr style=\"text-align: right;\">\n",
       "      <th></th>\n",
       "      <th>geometry</th>\n",
       "      <th>abs_wind_speed_error</th>\n",
       "    </tr>\n",
       "  </thead>\n",
       "  <tbody>\n",
       "    <tr>\n",
       "      <th>0</th>\n",
       "      <td>POINT (-117.10672 32.54224)</td>\n",
       "      <td>8.637497</td>\n",
       "    </tr>\n",
       "    <tr>\n",
       "      <th>1</th>\n",
       "      <td>POINT (-117.09059 32.54212)</td>\n",
       "      <td>8.643125</td>\n",
       "    </tr>\n",
       "    <tr>\n",
       "      <th>2</th>\n",
       "      <td>POINT (-117.07446 32.54202)</td>\n",
       "      <td>8.646338</td>\n",
       "    </tr>\n",
       "    <tr>\n",
       "      <th>3</th>\n",
       "      <td>POINT (-117.05774 32.5963)</td>\n",
       "      <td>6.400400</td>\n",
       "    </tr>\n",
       "    <tr>\n",
       "      <th>4</th>\n",
       "      <td>POINT (-117.05789 32.5827)</td>\n",
       "      <td>6.337770</td>\n",
       "    </tr>\n",
       "    <tr>\n",
       "      <th>...</th>\n",
       "      <td>...</td>\n",
       "      <td>...</td>\n",
       "    </tr>\n",
       "    <tr>\n",
       "      <th>957</th>\n",
       "      <td>POINT (-116.45962 32.63112)</td>\n",
       "      <td>18.689873</td>\n",
       "    </tr>\n",
       "    <tr>\n",
       "      <th>958</th>\n",
       "      <td>POINT (-116.05371 32.72061)</td>\n",
       "      <td>36.823705</td>\n",
       "    </tr>\n",
       "    <tr>\n",
       "      <th>959</th>\n",
       "      <td>POINT (-116.07048 32.69366)</td>\n",
       "      <td>36.567835</td>\n",
       "    </tr>\n",
       "    <tr>\n",
       "      <th>960</th>\n",
       "      <td>POINT (-116.08725 32.66671)</td>\n",
       "      <td>37.290560</td>\n",
       "    </tr>\n",
       "    <tr>\n",
       "      <th>961</th>\n",
       "      <td>POINT (-116.18533 32.61377)</td>\n",
       "      <td>12.262794</td>\n",
       "    </tr>\n",
       "  </tbody>\n",
       "</table>\n",
       "<p>962 rows × 2 columns</p>\n",
       "</div>"
      ],
      "text/plain": [
       "                        geometry  abs_wind_speed_error\n",
       "0    POINT (-117.10672 32.54224)              8.637497\n",
       "1    POINT (-117.09059 32.54212)              8.643125\n",
       "2    POINT (-117.07446 32.54202)              8.646338\n",
       "3     POINT (-117.05774 32.5963)              6.400400\n",
       "4     POINT (-117.05789 32.5827)              6.337770\n",
       "..                           ...                   ...\n",
       "957  POINT (-116.45962 32.63112)             18.689873\n",
       "958  POINT (-116.05371 32.72061)             36.823705\n",
       "959  POINT (-116.07048 32.69366)             36.567835\n",
       "960  POINT (-116.08725 32.66671)             37.290560\n",
       "961  POINT (-116.18533 32.61377)             12.262794\n",
       "\n",
       "[962 rows x 2 columns]"
      ]
     },
     "execution_count": 4,
     "metadata": {},
     "output_type": "execute_result"
    }
   ],
   "source": [
    "df = nam_within_vri_prediction_gpd.groupby(['geometry'])[['abs_wind_speed_error']].mean().reset_index()\n",
    "df"
   ]
  },
  {
   "cell_type": "code",
   "execution_count": 5,
   "id": "40068aec-2bc9-4234-be57-c54d8a1a2dfd",
   "metadata": {},
   "outputs": [],
   "source": [
    "plot_map(gis_weather_station_with_elevation_gpd, src_vri_snapshot_gpd, df, 'abs_wind_speed_error', \"test_file.html\")"
   ]
  },
  {
   "cell_type": "code",
   "execution_count": 6,
   "id": "d8600370-5a30-4ec8-b2c5-d58de17d4b16",
   "metadata": {},
   "outputs": [
    {
     "data": {
      "text/html": [
       "\n",
       "        <iframe\n",
       "            width=\"700\"\n",
       "            height=\"500\"\n",
       "            src=\"../plots/test_file.html\"\n",
       "            frameborder=\"0\"\n",
       "            allowfullscreen\n",
       "            \n",
       "        ></iframe>\n",
       "        "
      ],
      "text/plain": [
       "<IPython.lib.display.IFrame at 0x7f4ee481e790>"
      ]
     },
     "execution_count": 6,
     "metadata": {},
     "output_type": "execute_result"
    }
   ],
   "source": [
    "IFrame(\"../plots/test_file.html\", width=700, height=500)"
   ]
  }
 ],
 "metadata": {
  "kernelspec": {
   "display_name": "Python 3 (ipykernel)",
   "language": "python",
   "name": "python3"
  },
  "language_info": {
   "codemirror_mode": {
    "name": "ipython",
    "version": 3
   },
   "file_extension": ".py",
   "mimetype": "text/x-python",
   "name": "python",
   "nbconvert_exporter": "python",
   "pygments_lexer": "ipython3",
   "version": "3.11.9"
  }
 },
 "nbformat": 4,
 "nbformat_minor": 5
}
