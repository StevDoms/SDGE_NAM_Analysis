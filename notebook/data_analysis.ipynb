{
 "cells": [
  {
   "cell_type": "code",
   "execution_count": 1,
   "id": "89d104b9-745e-4f17-a747-9465c9286c3c",
   "metadata": {},
   "outputs": [],
   "source": [
    "import sys\n",
    "import os\n",
    "\n",
    "sys.path.append(os.path.join(os.getcwd(), '..')) # Change path to root\n",
    "\n",
    "from src.data import generate_df, convert_to_gdf\n"
   ]
  },
  {
   "cell_type": "code",
   "execution_count": 2,
   "id": "d8e265d0-c1a6-4068-94e4-532f7170b1ad",
   "metadata": {},
   "outputs": [
    {
     "ename": "NameError",
     "evalue": "name 'raw_data_path' is not defined",
     "output_type": "error",
     "traceback": [
      "\u001b[0;31m---------------------------------------------------------------------------\u001b[0m",
      "\u001b[0;31mNameError\u001b[0m                                 Traceback (most recent call last)",
      "Cell \u001b[0;32mIn[2], line 1\u001b[0m\n\u001b[0;32m----> 1\u001b[0m gis_weather_station, src_vri_snapshot, nam, windspeed_snapshot \u001b[38;5;241m=\u001b[39m generate_df(\u001b[43mraw_data_path\u001b[49m) \n\u001b[1;32m      2\u001b[0m gis_weather_station, windspeed_snapshot \u001b[38;5;241m=\u001b[39m preprocess_df(gis_weather_station, windspeed_snapshot)\n",
      "\u001b[0;31mNameError\u001b[0m: name 'raw_data_path' is not defined"
     ]
    }
   ],
   "source": [
    "gis_weather_station, src_vri_snapshot, nam, windspeed_snapshot = generate_df(raw_data_path) \n",
    "gis_weather_station, windspeed_snapshot = preprocess_df(gis_weather_station, windspeed_snapshot)"
   ]
  },
  {
   "cell_type": "code",
   "execution_count": null,
   "id": "8cbb366e-96f4-465d-bded-151616f113e7",
   "metadata": {},
   "outputs": [],
   "source": []
  },
  {
   "cell_type": "code",
   "execution_count": null,
   "id": "40068aec-2bc9-4234-be57-c54d8a1a2dfd",
   "metadata": {},
   "outputs": [],
   "source": []
  },
  {
   "cell_type": "code",
   "execution_count": null,
   "id": "d8600370-5a30-4ec8-b2c5-d58de17d4b16",
   "metadata": {},
   "outputs": [],
   "source": []
  }
 ],
 "metadata": {
  "kernelspec": {
   "display_name": "Python 3 (ipykernel)",
   "language": "python",
   "name": "python3"
  },
  "language_info": {
   "codemirror_mode": {
    "name": "ipython",
    "version": 3
   },
   "file_extension": ".py",
   "mimetype": "text/x-python",
   "name": "python",
   "nbconvert_exporter": "python",
   "pygments_lexer": "ipython3",
   "version": "3.11.9"
  }
 },
 "nbformat": 4,
 "nbformat_minor": 5
}
