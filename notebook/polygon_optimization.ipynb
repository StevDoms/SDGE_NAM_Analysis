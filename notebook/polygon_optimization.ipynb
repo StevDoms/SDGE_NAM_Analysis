{
 "cells": [
  {
   "cell_type": "code",
   "execution_count": null,
   "id": "7e6db70b-b542-48aa-82c9-aa607ee7af22",
   "metadata": {},
   "outputs": [],
   "source": [
    "import sys\n",
    "import os\n",
    "import json\n",
    "import pandas as pd\n",
    "\n",
    "\n",
    "# Change dir to root dir\n",
    "parent_dir = os.path.abspath(os.path.join(os.getcwd(), \"..\"))\n",
    "os.chdir(parent_dir)\n",
    "print(\"Current Working Directory:\", os.getcwd())\n",
    "\n",
    "from src.data import generate_df, convert_to_gdf, generate_gdf, preprocess_df\n",
    "from src.plot import plot_data\n",
    "from src.model import light_gbm, predict_light_gbm_model\n",
    "from src.data import generate_df, generate_gdf, preprocess_df, preprocess_gdf, filter_nam_outside_vri, get_nam_outside_vri_nearest_station\n",
    "from src.scripts.generateNamCSV import generate_nam_csv\n",
    "from src.scripts.generateElevationCSV import generate_elevation_csv\n",
    "from src.analysis import custom_groupby, find_outliers_iqr\n"
   ]
  },
  {
   "cell_type": "code",
   "execution_count": null,
   "id": "aad6ca43-f8f7-41db-8f2e-1db2ccd59678",
   "metadata": {},
   "outputs": [],
   "source": [
    "with open('config/data_params.json') as fh:\n",
    "        data_params = json.load(fh)    \n",
    "\n",
    "raw_data_path = [os.path.join('./data/raw', file_path) for file_path in data_params[\"raw_data\"]]\n",
    "modified_data_path = [os.path.join('./data/modified', file_path) for file_path in data_params[\"modified_data\"]]\n",
    "output_model_path = [os.path.join('./data/modified', file_path) for file_path in data_params[\"model_prediction\"]]"
   ]
  },
  {
   "cell_type": "code",
   "execution_count": null,
   "id": "65f8b07d-33dd-4cec-9946-5c4ec96ce6b7",
   "metadata": {},
   "outputs": [],
   "source": [
    "# Reading raw data\n",
    "gis_weather_station, src_vri_snapshot, nam, windspeed_snapshot = generate_df(raw_data_path) \n",
    "gis_weather_station, windspeed_snapshot = preprocess_df(gis_weather_station, windspeed_snapshot)\n",
    "\n",
    "# Reading filtered data with elevation from API\n",
    "gis_weather_station_with_elevation, nam_with_elevation = generate_df(modified_data_path)\n",
    "gis_weather_station_with_elevation_gpd, src_vri_snapshot_gpd, nam_with_elevation_gpd = generate_gdf(\n",
    "    gis_weather_station_with_elevation, src_vri_snapshot, nam_with_elevation)\n",
    "\n",
    "# Readiing data from LightGBM model\n",
    "nam_within_vri_prediction, nam_outside_vri_prediction = generate_df(output_model_path)\n",
    "nam_within_vri_prediction_gpd, nam_outside_vri_prediction_gpd = convert_to_gdf(nam_within_vri_prediction, True), convert_to_gdf(nam_outside_vri_prediction)"
   ]
  },
  {
   "cell_type": "code",
   "execution_count": null,
   "id": "c173841e-455f-4054-800f-96932ea9cd00",
   "metadata": {},
   "outputs": [],
   "source": [
    "nam_within_vri_prediction_gpd.head()"
   ]
  },
  {
   "cell_type": "code",
   "execution_count": null,
   "id": "c8cc2119-8307-4e5a-add0-c8bec2d50c5c",
   "metadata": {},
   "outputs": [],
   "source": [
    "nam_within_vri_prediction_gpd.columns"
   ]
  },
  {
   "cell_type": "code",
   "execution_count": null,
   "id": "89c4cba5-cd70-47ea-a0e7-fc575706050f",
   "metadata": {},
   "outputs": [],
   "source": [
    "# # Select only numeric columns\n",
    "# numeric_columns = nam_within_vri_prediction.select_dtypes(include=['number']).columns\n",
    "\n",
    "# # Group by polygon and compute the mean only for numeric columns\n",
    "# nam_grouped_within_vri_prediction = nam_within_vri_prediction.groupby('polygon_geometry')[numeric_columns].mean()\n",
    "\n",
    "\n",
    "# nam_grouped_within_vri_prediction = nam_within_vri_prediction.groupby('polygon_geometry').mean()"
   ]
  },
  {
   "cell_type": "code",
   "execution_count": null,
   "id": "15a2eba1-3f09-4fa6-be14-ecdfb8708c28",
   "metadata": {},
   "outputs": [],
   "source": []
  },
  {
   "cell_type": "code",
   "execution_count": null,
   "id": "99ef9d7c-8c90-4c40-b36b-79cb7a6d42d4",
   "metadata": {},
   "outputs": [],
   "source": [
    "# Wind speed error difference to evaluate the LightGBM model\n",
    "nam_within_vri_prediction_gpd['wind_speed_error_diff'] = (nam_within_vri_prediction_gpd['abs_wind_speed_error'] - \n",
    "                                                     nam_within_vri_prediction_gpd['abs_wind_speed_error_pred']).abs()\n",
    "\n",
    "agg_dict_within = {\n",
    "    'abs_wind_speed_error': 'mean',\n",
    "    'wind_speed_error_diff': 'mean',\n",
    "    'nam_distance_from_station_km': 'mean'\n",
    "}\n",
    "\n",
    "# Group the data based on each NAM points\n",
    "nam_mae_within = custom_groupby(nam_within_vri_prediction_gpd, ['geometry'], agg_dict_within)\n",
    "nam_mae_within['distance_weight_error'] = nam_mae_within['abs_wind_speed_error'] * nam_mae_within['nam_distance_from_station_km']\n",
    "nam_mae_within.head()"
   ]
  },
  {
   "cell_type": "code",
   "execution_count": null,
   "id": "1ec2a174-5657-4c89-a11c-3c5c0ba8d8a1",
   "metadata": {},
   "outputs": [],
   "source": [
    "nam_mae_within.sort_values(\n",
    "    by='abs_wind_speed_error', ascending=False\n",
    ").head(20)['geometry']"
   ]
  },
  {
   "cell_type": "code",
   "execution_count": null,
   "id": "c2ba212e-5e2d-4928-803e-82952d9cf3f2",
   "metadata": {},
   "outputs": [],
   "source": [
    "nam_points_to_update = nam_mae_within.sort_values(\n",
    "    by='abs_wind_speed_error', ascending=False\n",
    ").head(20)['geometry'].tolist()\n",
    "nam_points_to_update"
   ]
  },
  {
   "cell_type": "code",
   "execution_count": null,
   "id": "e5cf0915-5f55-4a0a-971e-3da9b0a53725",
   "metadata": {},
   "outputs": [],
   "source": [
    "nam_within_vri_prediction_gpd = nam_within_vri_prediction_gpd[nam_within_vri_prediction_gpd['geometry'].isin(nam_points_to_update)]\n",
    "nam_within_vri_prediction_gpd"
   ]
  },
  {
   "cell_type": "code",
   "execution_count": null,
   "id": "b819917b-d9be-483f-9a0b-73908d37274b",
   "metadata": {},
   "outputs": [],
   "source": [
    "# Import necessary libraries\n",
    "import geopandas as gpd\n",
    "import pandas as pd\n",
    "from shapely.geometry import Point\n",
    "from geopy.distance import geodesic\n",
    "from shapely.ops import nearest_points\n",
    "from sklearn.preprocessing import MinMaxScaler\n",
    "\n",
    "# Load datasets (Assuming the data is already loaded as GeoDataFrames)\n",
    "# Replace 'your_file_path' with the actual paths if needed\n",
    "# gis_weather_station = gpd.read_file('your_file_path')\n",
    "# windspeed_snapshot = gpd.read_file('your_file_path')\n",
    "# src_vri_snapshot = gpd.read_file('your_file_path')\n",
    "# nam_within_vri_prediction_gpd = gpd.read_file('your_file_path')\n",
    "\n",
    "# nam_points_to_update = [\n",
    "#     \"POINT (-116.621796 32.592236)\",\n",
    "#     \"POINT (-116.81482 32.64864)\",\n",
    "#     \"POINT (-116.8631 32.662697)\",\n",
    "#     \"POINT (-116.49263 32.590714)\",\n",
    "#     \"POINT (-116.84729 32.63534)\",\n",
    "#     \"POINT (-116.08725 32.666706)\",\n",
    "#     \"POINT (-116.07048 32.693657)\",\n",
    "#     \"POINT (-116.7005 32.729134)\",\n",
    "#     \"POINT (-116.05371 32.720608)\",\n",
    "#     \"POINT (-116.69971 32.783554)\"\n",
    "# ]\n",
    "# # List of NAM points to update\n",
    "# nam_points_to_update = [\n",
    "#     \"POINT (-116.08725 32.66671)\",\n",
    "#     \"POINT (-116.05371 32.72061)\",\n",
    "#     \"POINT (-116.07048 32.69366)\",\n",
    "#     \"POINT (-116.69971 32.78355)\",\n",
    "#     \"POINT (-116.66733 32.7832)\",\n",
    "#     \"POINT (-116.81482 32.64864)\",\n",
    "#     \"POINT (-116.8631 32.6627)\",\n",
    "#     \"POINT (-116.88751 33.28887)\",\n",
    "#     \"POINT (-116.45044 33.14809)\",\n",
    "#     \"POINT (-116.84729 32.63534)\",\n",
    "#     \"POINT (-116.68271 32.8378)\",\n",
    "#     \"POINT (-116.92093 33.22111)\",\n",
    "#     \"POINT (-116.4182 33.13408)\",\n",
    "#     \"POINT (-116.36945 33.13344)\",\n",
    "#     \"POINT (-116.33694 33.13301)\",\n",
    "#     \"POINT (-116.32071 33.13279)\",\n",
    "#     \"POINT (-116.7279 33.0696)\",\n",
    "#     \"POINT (-116.7001 32.75634)\",\n",
    "#     \"POINT (-116.30446 33.13256)\",\n",
    "#     \"POINT (-116.93619 33.3029)\"\n",
    "# ]\n",
    "\n",
    "# Convert NAM points to Shapely geometries\n",
    "#nam_points_geom = nam_points_to_update\n",
    "\n",
    "# Function to find the nearest alternative VRI polygon (excluding current)\n",
    "def find_nearest_vri(nam_point, vri_polygons, current_vri_name):\n",
    "    nam_coords = (nam_point.y, nam_point.x)  # (lat, lon)\n",
    "    nearest_vri = None\n",
    "    min_distance = float(\"inf\")\n",
    "\n",
    "    for _, row in vri_polygons.iterrows():\n",
    "        if row['name'] == current_vri_name:\n",
    "            continue  # Skip the current VRI polygon\n",
    "\n",
    "        vri_centroid = row['geometry'].centroid\n",
    "        vri_coords = (vri_centroid.y, vri_centroid.x)\n",
    "\n",
    "        distance = geodesic(nam_coords, vri_coords).km  # Haversine distance in km\n",
    "        if distance < min_distance:\n",
    "            min_distance = distance\n",
    "            nearest_vri = row\n",
    "\n",
    "    return nearest_vri"
   ]
  },
  {
   "cell_type": "code",
   "execution_count": null,
   "id": "b4aab751-0332-468d-a6a0-342eb273b4d2",
   "metadata": {},
   "outputs": [],
   "source": [
    "# Create new columns with default value \"no change\"\n",
    "nam_within_vri_prediction_gpd[\"New_VRI_Anemometer\"] = \"no change\"\n",
    "nam_within_vri_prediction_gpd[\"New_Polygon_Shape\"] = \"no change\"\n",
    "nam_within_vri_prediction_gpd"
   ]
  },
  {
   "cell_type": "code",
   "execution_count": null,
   "id": "b37bf800-ad4f-4191-812b-793dfbf76c86",
   "metadata": {},
   "outputs": [],
   "source": [
    "# Apply nearest VRI assignment for the specific NAM points\n",
    "for point_str in nam_points_to_update:\n",
    "    current_vri_info = nam_within_vri_prediction_gpd.loc[\n",
    "        nam_within_vri_prediction_gpd['geometry'] == point_str,\n",
    "        ['polygon_geometry', 'name']\n",
    "    ]\n",
    "\n",
    "    if current_vri_info.empty:\n",
    "        continue  # Skip if no current VRI info found\n",
    "\n",
    "    current_vri_name = current_vri_info.iloc[0]['name']\n",
    "\n",
    "    # Find the nearest alternative VRI polygon (excluding current)\n",
    "    nearest_vri = find_nearest_vri(point_str, src_vri_snapshot, current_vri_name)\n",
    "\n",
    "    if nearest_vri is not None:\n",
    "        nam_within_vri_prediction_gpd.loc[\n",
    "            nam_within_vri_prediction_gpd['geometry'] == point_str,\n",
    "            [\"New_VRI_Anemometer\", \"New_Polygon_Shape\"]\n",
    "        ] = [nearest_vri['anemometer'], nearest_vri['shape']]\n",
    "nam_within_vri_prediction_gpd.head()"
   ]
  },
  {
   "cell_type": "code",
   "execution_count": null,
   "id": "d580e4f7-2df9-4510-b7ab-eac84c2b62a6",
   "metadata": {},
   "outputs": [],
   "source": [
    "merged_wind_data = gis_weather_station_with_elevation_gpd.merge(\n",
    "    windspeed_snapshot,\n",
    "    left_on=[\"weatherstationcode\"],  \n",
    "    right_on=[\"station\"],\n",
    "    how=\"inner\"\n",
    ")\n",
    "\n",
    "\n",
    "pd.set_option('display.max_columns', None)\n",
    "# Spatial join to merge merged_wind_data with src_vri_snapshot\n",
    "merged_wind_data = gpd.sjoin(merged_wind_data, src_vri_snapshot_gpd, predicate=\"within\")\n",
    "merged_wind_data"
   ]
  },
  {
   "cell_type": "code",
   "execution_count": null,
   "id": "83a14fa5-344a-467e-9cf4-bbb302ef8961",
   "metadata": {},
   "outputs": [],
   "source": [
    "nam_within_vri_prediction_gpd['New_VRI_Anemometer'].unique()"
   ]
  },
  {
   "cell_type": "code",
   "execution_count": null,
   "id": "e6d17ff1-604e-413c-bdad-1a2de446d2f3",
   "metadata": {},
   "outputs": [],
   "source": [
    "#merged_wind_data_gdf = convert_to_gdf(merged_wind_data)\n",
    "df = nam_within_vri_prediction_gpd[['geometry', 'abs_wind_speed_error']]\n",
    "df_filtered = df[df['geometry'].isin(nam_points_to_update)]\n",
    "df_filtered.groupby('geometry').mean()"
   ]
  },
  {
   "cell_type": "code",
   "execution_count": null,
   "id": "24642f5e-6958-46c8-9ab0-dad6f6291496",
   "metadata": {},
   "outputs": [],
   "source": [
    "filtered_nam_within_vri_subset = nam_within_vri_prediction_gpd[\n",
    "    nam_within_vri_prediction_gpd['geometry'].isin(nam_points_to_update)\n",
    "]\n",
    "filtered_nam_within_vri_subset"
   ]
  },
  {
   "cell_type": "code",
   "execution_count": null,
   "id": "83b6a0a7-d499-43ae-864c-47805a7e8ca6",
   "metadata": {},
   "outputs": [],
   "source": [
    "merged_filtered_wind_data = filtered_nam_within_vri_subset.merge(\n",
    "    merged_wind_data,\n",
    "    left_on=[\"New_VRI_Anemometer\", \"nam_date\"],  # Columns from filtered_nam_within_vri_subset\n",
    "    right_on=[\"anemometer\", \"date\"],            # Columns from merged_wind_data\n",
    "    how=\"left\"  # Keep all rows from filtered_nam_within_vri_subset\n",
    ")"
   ]
  },
  {
   "cell_type": "code",
   "execution_count": null,
   "id": "9cca3635-6b16-49d4-ab0d-8a9da946b406",
   "metadata": {},
   "outputs": [],
   "source": [
    "merged_filtered_wind_data.head()"
   ]
  },
  {
   "cell_type": "code",
   "execution_count": null,
   "id": "82125d20-cfc3-4c03-93e0-1ec86a6be14a",
   "metadata": {},
   "outputs": [],
   "source": [
    "# Select relevant columns for calculation\n",
    "important_columns = [\n",
    "    \"geometry_x\",\n",
    "    \"nam_wind_speed\",\n",
    "    \"New_VRI_Anemometer\",\n",
    "    \"wind_speed\",\n",
    "    \"anemometer_x\"\n",
    "]\n",
    "\n",
    "filtered_merged_wind_data = merged_filtered_wind_data[important_columns]\n",
    "\n",
    "# Filter to only include rows where New_VRI_Anemometer has changed\n",
    "filtered_merged_wind_data = filtered_merged_wind_data[\n",
    "    filtered_merged_wind_data[\"New_VRI_Anemometer\"] != \"no change\"\n",
    "]\n",
    "\n",
    "# Calculate new absolute wind speed error\n",
    "filtered_merged_wind_data[\"new_abs_wind_speed_error\"] = (\n",
    "    filtered_merged_wind_data[\"nam_wind_speed\"] - filtered_merged_wind_data[\"wind_speed\"]\n",
    ").abs()\n",
    "\n",
    "filtered_merged_wind_data = filtered_merged_wind_data.rename(columns={'anemometer_x': 'Old_VRI_Polygon'})\n",
    "filtered_merged_wind_data"
   ]
  },
  {
   "cell_type": "code",
   "execution_count": null,
   "id": "9a2f9b0e-7fcf-4961-b846-d41304ce0a31",
   "metadata": {},
   "outputs": [],
   "source": [
    "df_filtered"
   ]
  },
  {
   "cell_type": "code",
   "execution_count": null,
   "id": "4220624e-906b-4f34-a39b-5d9e12cc5e70",
   "metadata": {},
   "outputs": [],
   "source": [
    "# Group both DataFrames by 'nam_geometry' and compute mean errors\n",
    "new_error_df = filtered_merged_wind_data.groupby(\"geometry_x\")[[\"new_abs_wind_speed_error\"]].mean().reset_index()\n",
    "old_error_df = df_filtered.groupby(\"geometry\")[[\"abs_wind_speed_error\"]].mean().reset_index()\n",
    "\n",
    "# Merge both DataFrames to compare old vs new error\n",
    "comparison_df = old_error_df.merge(new_error_df, left_on='geometry', right_on='geometry_x').drop('geometry_x', axis=1)\n",
    "\n",
    "# Calculate the difference (improvement)\n",
    "comparison_df[\"error_difference\"] = comparison_df[\"abs_wind_speed_error\"] - comparison_df[\"new_abs_wind_speed_error\"]"
   ]
  },
  {
   "cell_type": "code",
   "execution_count": null,
   "id": "28ac8963-f773-41eb-b580-7c90e921182d",
   "metadata": {},
   "outputs": [],
   "source": [
    "filtered_merged_wind_data"
   ]
  },
  {
   "cell_type": "code",
   "execution_count": null,
   "id": "3fdc063a-57da-4c7c-8507-f4b239589b1a",
   "metadata": {},
   "outputs": [],
   "source": [
    "comparison_df"
   ]
  },
  {
   "cell_type": "code",
   "execution_count": null,
   "id": "fe3eb02b-2cbb-40b5-b132-285ead122d59",
   "metadata": {},
   "outputs": [],
   "source": [
    "# Extract new VRI polygon information\n",
    "filtered_merged_wind_data.rename(columns={'geometry_x': 'geometry'}, inplace=True)\n",
    "new_vri_info = filtered_merged_wind_data[[\"geometry\", \"New_VRI_Anemometer\", \"Old_VRI_Polygon\"]].drop_duplicates()\n",
    "\n",
    "# Merge to include the new VRI polygons\n",
    "comparison_df = comparison_df.merge(new_vri_info, on=\"geometry\", how=\"left\")\n",
    "\n",
    "# Filter for optimal geometries where the error difference is positive (improvement)\n",
    "optimum_geometry = comparison_df[comparison_df[\"error_difference\"] > 0]\n",
    "\n",
    "# Rename column for clarity\n",
    "optimum_geometry.rename(columns={\"New_VRI_Anemometer\": \"New_VRI_Polygon\"}, inplace=True)\n",
    "optimum_geometry"
   ]
  },
  {
   "cell_type": "code",
   "execution_count": null,
   "id": "7a3e7a85-994e-4ff9-897e-3e90074bbbf5",
   "metadata": {},
   "outputs": [],
   "source": [
    "optimum_geometry = optimum_geometry.sort_values('error_difference', ascending=False)\\\n",
    "                                          .drop_duplicates(subset=['geometry'], keep='first')\\\n",
    "                                          .reset_index(drop=True)\n",
    "optimum_geometry"
   ]
  },
  {
   "cell_type": "code",
   "execution_count": null,
   "id": "5fe773c1-d7d3-4388-b7fa-a3b742c75ef0",
   "metadata": {},
   "outputs": [],
   "source": [
    "summary_df = pd.DataFrame({\n",
    "    'Metric': [\n",
    "        'Mean Old MAE',\n",
    "        'Mean New MAE',\n",
    "        'Mean MAE Reduction',\n",
    "        'Percentage MAE Reduction (%)'\n",
    "    ],\n",
    "    'Value': [\n",
    "        optimum_geometry['abs_wind_speed_error'].mean(),\n",
    "        optimum_geometry['new_abs_wind_speed_error'].mean(),\n",
    "        optimum_geometry['error_difference'].mean(),\n",
    "        (optimum_geometry['error_difference'].mean() / optimum_geometry['abs_wind_speed_error'].mean()) * 100\n",
    "    ]\n",
    "})\n",
    "\n",
    "# Format nicely for display\n",
    "summary_df['Value'] = summary_df['Value'].round(2)\n",
    "summary_df"
   ]
  }
 ],
 "metadata": {
  "kernelspec": {
   "display_name": "venv",
   "language": "python",
   "name": "venv"
  },
  "language_info": {
   "codemirror_mode": {
    "name": "ipython",
    "version": 3
   },
   "file_extension": ".py",
   "mimetype": "text/x-python",
   "name": "python",
   "nbconvert_exporter": "python",
   "pygments_lexer": "ipython3",
   "version": "3.9.21"
  }
 },
 "nbformat": 4,
 "nbformat_minor": 5
}
